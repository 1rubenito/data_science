{
  "nbformat": 4,
  "nbformat_minor": 0,
  "metadata": {
    "colab": {
      "name": "Churn Prediction",
      "provenance": [],
      "authorship_tag": "ABX9TyO5Ywv3No8Y+T7oM0hSsh/l",
      "include_colab_link": true
    },
    "kernelspec": {
      "name": "python3",
      "display_name": "Python 3"
    },
    "language_info": {
      "name": "python"
    }
  },
  "cells": [
    {
      "cell_type": "markdown",
      "metadata": {
        "id": "view-in-github",
        "colab_type": "text"
      },
      "source": [
        "<a href=\"https://colab.research.google.com/github/1rubenito/data_science/blob/main/Churn_Prediction.ipynb\" target=\"_parent\"><img src=\"https://colab.research.google.com/assets/colab-badge.svg\" alt=\"Open In Colab\"/></a>"
      ]
    },
    {
      "cell_type": "markdown",
      "metadata": {
        "id": "uAnW92W8onuw"
      },
      "source": [
        "Churn Prediction\n",
        "\n",
        "*por* `Rubens Gianfaldoni`"
      ]
    },
    {
      "cell_type": "markdown",
      "metadata": {
        "id": "yd8DV7Hdona7"
      },
      "source": [
        "---"
      ]
    },
    {
      "cell_type": "markdown",
      "metadata": {
        "id": "jVbU5jZConQt"
      },
      "source": [
        "<img alt=\"covid19\" width=\"100%\" src=\"https://blog.plugcrm.net/wp-content/uploads/2016/10/churn-dicas-evitar-cancelamento-clientes-plugcrm.png\">\n",
        "\n",
        "*Churn* é que uma métrica usada para calcular o índice de saída de clientes de um serviço x índice de entrada do cliente.\n",
        "\n",
        "Existem vários impactos diretos de um alto *Churn Rate* no negócio, mas o impacto financeiro e a imagem negativa são os maiores pontos a serem destacados.\n",
        "\n",
        "Algumas empresas/startups americanas costumam dizer que 7% é um índice aceitável. As empresas que conseguem manter esse número abaixo são verdadeiras máquinas de venda.\n",
        "\n",
        "Infelizmente, algumas empresas não conseguem reduzir o *Churn Rate* porque não conseguem reconhecê-lo.\n",
        "\n",
        "Com essa análise iremos abordar vários modelos, que ajudarão em como começar esse reconhecimento de perda de clientes, baseados nas informações obtidas anteriormente.\n",
        "\n",
        "O conjunto de dados foi obtido [aqui](https://bit.ly/3ibwGq7)."
      ]
    },
    {
      "cell_type": "markdown",
      "metadata": {
        "id": "svSzYV_hWLts"
      },
      "source": [
        "Vamos entender as variáveis do `dataset`.\n",
        "\n",
        "*   `customerID` - identificação do cliente\n",
        "*   `gender` - gênero sexual\n",
        "*   `SeniorCitizen` - se o cliente é idoso\n",
        "*   `Partner` - \n",
        "*   `Dependents` - se tem dependentes\n",
        "*   `tenure` - \n",
        "*   `PhoneService` - Se possui serviço de telefone\n",
        "*   `MultipleLines` - se tem mais de 1 linha telefônica\n",
        "*   `InternetService` - se o serviço de internet é DSL, fibra ótica ou não possui\n",
        "*   `OnlineSecurity` - se possui serviço de segurança, antivírus, firewall ou não possui internet\n",
        "*   `OnlineBackup` - se possui serviço de backup, ou não tem internet\n",
        "*   `DeviceProtection` - se possui serviço de proteção no seu dispositivo\n",
        "*   `TechSupport` - se possui serviço de suporte técnico\n",
        "*   `StreamingTV` - se possui serviço de Streaming de canais\n",
        "*   `StreamingMovies` - se possui serviço de Streaming de filmes, seriados, etc...\n",
        "*   `Contract` - se o contrato é mensal, de 1 ano ou 2 anos.\n",
        "*   `PaperlessBilling` - se prefere sua conta de pagamento online ou não.\n",
        "*   `PaymentMethod` - método de pagamento\n",
        "*   `MonthlyCharges` - valor mensal\n",
        "*   `TotalCharges` - valor total\n",
        "*   `Churn` - clientes que cancelaram os serviços com a empresa, no último mês.\n",
        "\n"
      ]
    },
    {
      "cell_type": "code",
      "metadata": {
        "id": "8GevbA-a4hRf"
      },
      "source": [
        "#importar bibliotecas\n",
        "import pandas as pd\n",
        "import matplotlib.pyplot as plt\n",
        "import seaborn as sns\n",
        "import numpy as np\n",
        "\n",
        "#evitar warnings na análise\n",
        "import warnings\n",
        "warnings.filterwarnings(\"ignore\")\n",
        "\n",
        "#bibliotecas para machine learning\n",
        "from sklearn.svm import SVC\n",
        "from sklearn.linear_model import LogisticRegression\n",
        "from xgboost import XGBClassifier, plot_importance\n",
        "from sklearn.model_selection import cross_validate\n",
        "from sklearn.model_selection import GridSearchCV\n",
        "from sklearn.preprocessing import LabelEncoder\n",
        "from sklearn.preprocessing import StandardScaler\n",
        "from sklearn.model_selection import train_test_split\n",
        "from imblearn.under_sampling import RandomUnderSampler\n",
        "from sklearn.metrics import accuracy_score, f1_score, confusion_matrix, classification_report\n",
        "from sklearn.model_selection import cross_val_score\n"
      ],
      "execution_count": 793,
      "outputs": []
    },
    {
      "cell_type": "code",
      "metadata": {
        "id": "DITKBMqypEvB"
      },
      "source": [
        "#criar uma variável para o dataset\n",
        "DATA_PATH = 'https://raw.githubusercontent.com/carlosfab/dsnp2/master/datasets/WA_Fn-UseC_-Telco-Customer-Churn.csv'\n",
        "churn = pd.read_csv(DATA_PATH)"
      ],
      "execution_count": 794,
      "outputs": []
    },
    {
      "cell_type": "code",
      "metadata": {
        "colab": {
          "base_uri": "https://localhost:8080/",
          "height": 392
        },
        "id": "gNa0evsZpSzG",
        "outputId": "ff7e7527-4d5c-42b4-a884-db14b7b079a9"
      },
      "source": [
        "#visualizar primeiras 7 linhas\n",
        "churn.head(7)"
      ],
      "execution_count": 795,
      "outputs": [
        {
          "output_type": "execute_result",
          "data": {
            "text/html": [
              "<div>\n",
              "<style scoped>\n",
              "    .dataframe tbody tr th:only-of-type {\n",
              "        vertical-align: middle;\n",
              "    }\n",
              "\n",
              "    .dataframe tbody tr th {\n",
              "        vertical-align: top;\n",
              "    }\n",
              "\n",
              "    .dataframe thead th {\n",
              "        text-align: right;\n",
              "    }\n",
              "</style>\n",
              "<table border=\"1\" class=\"dataframe\">\n",
              "  <thead>\n",
              "    <tr style=\"text-align: right;\">\n",
              "      <th></th>\n",
              "      <th>customerID</th>\n",
              "      <th>gender</th>\n",
              "      <th>SeniorCitizen</th>\n",
              "      <th>Partner</th>\n",
              "      <th>Dependents</th>\n",
              "      <th>tenure</th>\n",
              "      <th>PhoneService</th>\n",
              "      <th>MultipleLines</th>\n",
              "      <th>InternetService</th>\n",
              "      <th>OnlineSecurity</th>\n",
              "      <th>OnlineBackup</th>\n",
              "      <th>DeviceProtection</th>\n",
              "      <th>TechSupport</th>\n",
              "      <th>StreamingTV</th>\n",
              "      <th>StreamingMovies</th>\n",
              "      <th>Contract</th>\n",
              "      <th>PaperlessBilling</th>\n",
              "      <th>PaymentMethod</th>\n",
              "      <th>MonthlyCharges</th>\n",
              "      <th>TotalCharges</th>\n",
              "      <th>Churn</th>\n",
              "    </tr>\n",
              "  </thead>\n",
              "  <tbody>\n",
              "    <tr>\n",
              "      <th>0</th>\n",
              "      <td>7590-VHVEG</td>\n",
              "      <td>Female</td>\n",
              "      <td>0</td>\n",
              "      <td>Yes</td>\n",
              "      <td>No</td>\n",
              "      <td>1</td>\n",
              "      <td>No</td>\n",
              "      <td>No phone service</td>\n",
              "      <td>DSL</td>\n",
              "      <td>No</td>\n",
              "      <td>Yes</td>\n",
              "      <td>No</td>\n",
              "      <td>No</td>\n",
              "      <td>No</td>\n",
              "      <td>No</td>\n",
              "      <td>Month-to-month</td>\n",
              "      <td>Yes</td>\n",
              "      <td>Electronic check</td>\n",
              "      <td>29.85</td>\n",
              "      <td>29.85</td>\n",
              "      <td>No</td>\n",
              "    </tr>\n",
              "    <tr>\n",
              "      <th>1</th>\n",
              "      <td>5575-GNVDE</td>\n",
              "      <td>Male</td>\n",
              "      <td>0</td>\n",
              "      <td>No</td>\n",
              "      <td>No</td>\n",
              "      <td>34</td>\n",
              "      <td>Yes</td>\n",
              "      <td>No</td>\n",
              "      <td>DSL</td>\n",
              "      <td>Yes</td>\n",
              "      <td>No</td>\n",
              "      <td>Yes</td>\n",
              "      <td>No</td>\n",
              "      <td>No</td>\n",
              "      <td>No</td>\n",
              "      <td>One year</td>\n",
              "      <td>No</td>\n",
              "      <td>Mailed check</td>\n",
              "      <td>56.95</td>\n",
              "      <td>1889.5</td>\n",
              "      <td>No</td>\n",
              "    </tr>\n",
              "    <tr>\n",
              "      <th>2</th>\n",
              "      <td>3668-QPYBK</td>\n",
              "      <td>Male</td>\n",
              "      <td>0</td>\n",
              "      <td>No</td>\n",
              "      <td>No</td>\n",
              "      <td>2</td>\n",
              "      <td>Yes</td>\n",
              "      <td>No</td>\n",
              "      <td>DSL</td>\n",
              "      <td>Yes</td>\n",
              "      <td>Yes</td>\n",
              "      <td>No</td>\n",
              "      <td>No</td>\n",
              "      <td>No</td>\n",
              "      <td>No</td>\n",
              "      <td>Month-to-month</td>\n",
              "      <td>Yes</td>\n",
              "      <td>Mailed check</td>\n",
              "      <td>53.85</td>\n",
              "      <td>108.15</td>\n",
              "      <td>Yes</td>\n",
              "    </tr>\n",
              "    <tr>\n",
              "      <th>3</th>\n",
              "      <td>7795-CFOCW</td>\n",
              "      <td>Male</td>\n",
              "      <td>0</td>\n",
              "      <td>No</td>\n",
              "      <td>No</td>\n",
              "      <td>45</td>\n",
              "      <td>No</td>\n",
              "      <td>No phone service</td>\n",
              "      <td>DSL</td>\n",
              "      <td>Yes</td>\n",
              "      <td>No</td>\n",
              "      <td>Yes</td>\n",
              "      <td>Yes</td>\n",
              "      <td>No</td>\n",
              "      <td>No</td>\n",
              "      <td>One year</td>\n",
              "      <td>No</td>\n",
              "      <td>Bank transfer (automatic)</td>\n",
              "      <td>42.30</td>\n",
              "      <td>1840.75</td>\n",
              "      <td>No</td>\n",
              "    </tr>\n",
              "    <tr>\n",
              "      <th>4</th>\n",
              "      <td>9237-HQITU</td>\n",
              "      <td>Female</td>\n",
              "      <td>0</td>\n",
              "      <td>No</td>\n",
              "      <td>No</td>\n",
              "      <td>2</td>\n",
              "      <td>Yes</td>\n",
              "      <td>No</td>\n",
              "      <td>Fiber optic</td>\n",
              "      <td>No</td>\n",
              "      <td>No</td>\n",
              "      <td>No</td>\n",
              "      <td>No</td>\n",
              "      <td>No</td>\n",
              "      <td>No</td>\n",
              "      <td>Month-to-month</td>\n",
              "      <td>Yes</td>\n",
              "      <td>Electronic check</td>\n",
              "      <td>70.70</td>\n",
              "      <td>151.65</td>\n",
              "      <td>Yes</td>\n",
              "    </tr>\n",
              "    <tr>\n",
              "      <th>5</th>\n",
              "      <td>9305-CDSKC</td>\n",
              "      <td>Female</td>\n",
              "      <td>0</td>\n",
              "      <td>No</td>\n",
              "      <td>No</td>\n",
              "      <td>8</td>\n",
              "      <td>Yes</td>\n",
              "      <td>Yes</td>\n",
              "      <td>Fiber optic</td>\n",
              "      <td>No</td>\n",
              "      <td>No</td>\n",
              "      <td>Yes</td>\n",
              "      <td>No</td>\n",
              "      <td>Yes</td>\n",
              "      <td>Yes</td>\n",
              "      <td>Month-to-month</td>\n",
              "      <td>Yes</td>\n",
              "      <td>Electronic check</td>\n",
              "      <td>99.65</td>\n",
              "      <td>820.5</td>\n",
              "      <td>Yes</td>\n",
              "    </tr>\n",
              "    <tr>\n",
              "      <th>6</th>\n",
              "      <td>1452-KIOVK</td>\n",
              "      <td>Male</td>\n",
              "      <td>0</td>\n",
              "      <td>No</td>\n",
              "      <td>Yes</td>\n",
              "      <td>22</td>\n",
              "      <td>Yes</td>\n",
              "      <td>Yes</td>\n",
              "      <td>Fiber optic</td>\n",
              "      <td>No</td>\n",
              "      <td>Yes</td>\n",
              "      <td>No</td>\n",
              "      <td>No</td>\n",
              "      <td>Yes</td>\n",
              "      <td>No</td>\n",
              "      <td>Month-to-month</td>\n",
              "      <td>Yes</td>\n",
              "      <td>Credit card (automatic)</td>\n",
              "      <td>89.10</td>\n",
              "      <td>1949.4</td>\n",
              "      <td>No</td>\n",
              "    </tr>\n",
              "  </tbody>\n",
              "</table>\n",
              "</div>"
            ],
            "text/plain": [
              "   customerID  gender  SeniorCitizen  ... MonthlyCharges TotalCharges  Churn\n",
              "0  7590-VHVEG  Female              0  ...          29.85        29.85     No\n",
              "1  5575-GNVDE    Male              0  ...          56.95       1889.5     No\n",
              "2  3668-QPYBK    Male              0  ...          53.85       108.15    Yes\n",
              "3  7795-CFOCW    Male              0  ...          42.30      1840.75     No\n",
              "4  9237-HQITU  Female              0  ...          70.70       151.65    Yes\n",
              "5  9305-CDSKC  Female              0  ...          99.65        820.5    Yes\n",
              "6  1452-KIOVK    Male              0  ...          89.10       1949.4     No\n",
              "\n",
              "[7 rows x 21 columns]"
            ]
          },
          "metadata": {
            "tags": []
          },
          "execution_count": 795
        }
      ]
    },
    {
      "cell_type": "code",
      "metadata": {
        "colab": {
          "base_uri": "https://localhost:8080/",
          "height": 392
        },
        "id": "deVAhSTSpZdW",
        "outputId": "cb69be86-8d71-46df-d5c0-468013d79f3a"
      },
      "source": [
        "#exibir últimas 7 linhas\n",
        "churn.tail(7)"
      ],
      "execution_count": 796,
      "outputs": [
        {
          "output_type": "execute_result",
          "data": {
            "text/html": [
              "<div>\n",
              "<style scoped>\n",
              "    .dataframe tbody tr th:only-of-type {\n",
              "        vertical-align: middle;\n",
              "    }\n",
              "\n",
              "    .dataframe tbody tr th {\n",
              "        vertical-align: top;\n",
              "    }\n",
              "\n",
              "    .dataframe thead th {\n",
              "        text-align: right;\n",
              "    }\n",
              "</style>\n",
              "<table border=\"1\" class=\"dataframe\">\n",
              "  <thead>\n",
              "    <tr style=\"text-align: right;\">\n",
              "      <th></th>\n",
              "      <th>customerID</th>\n",
              "      <th>gender</th>\n",
              "      <th>SeniorCitizen</th>\n",
              "      <th>Partner</th>\n",
              "      <th>Dependents</th>\n",
              "      <th>tenure</th>\n",
              "      <th>PhoneService</th>\n",
              "      <th>MultipleLines</th>\n",
              "      <th>InternetService</th>\n",
              "      <th>OnlineSecurity</th>\n",
              "      <th>OnlineBackup</th>\n",
              "      <th>DeviceProtection</th>\n",
              "      <th>TechSupport</th>\n",
              "      <th>StreamingTV</th>\n",
              "      <th>StreamingMovies</th>\n",
              "      <th>Contract</th>\n",
              "      <th>PaperlessBilling</th>\n",
              "      <th>PaymentMethod</th>\n",
              "      <th>MonthlyCharges</th>\n",
              "      <th>TotalCharges</th>\n",
              "      <th>Churn</th>\n",
              "    </tr>\n",
              "  </thead>\n",
              "  <tbody>\n",
              "    <tr>\n",
              "      <th>7036</th>\n",
              "      <td>7750-EYXWZ</td>\n",
              "      <td>Female</td>\n",
              "      <td>0</td>\n",
              "      <td>No</td>\n",
              "      <td>No</td>\n",
              "      <td>12</td>\n",
              "      <td>No</td>\n",
              "      <td>No phone service</td>\n",
              "      <td>DSL</td>\n",
              "      <td>No</td>\n",
              "      <td>Yes</td>\n",
              "      <td>Yes</td>\n",
              "      <td>Yes</td>\n",
              "      <td>Yes</td>\n",
              "      <td>Yes</td>\n",
              "      <td>One year</td>\n",
              "      <td>No</td>\n",
              "      <td>Electronic check</td>\n",
              "      <td>60.65</td>\n",
              "      <td>743.3</td>\n",
              "      <td>No</td>\n",
              "    </tr>\n",
              "    <tr>\n",
              "      <th>7037</th>\n",
              "      <td>2569-WGERO</td>\n",
              "      <td>Female</td>\n",
              "      <td>0</td>\n",
              "      <td>No</td>\n",
              "      <td>No</td>\n",
              "      <td>72</td>\n",
              "      <td>Yes</td>\n",
              "      <td>No</td>\n",
              "      <td>No</td>\n",
              "      <td>No internet service</td>\n",
              "      <td>No internet service</td>\n",
              "      <td>No internet service</td>\n",
              "      <td>No internet service</td>\n",
              "      <td>No internet service</td>\n",
              "      <td>No internet service</td>\n",
              "      <td>Two year</td>\n",
              "      <td>Yes</td>\n",
              "      <td>Bank transfer (automatic)</td>\n",
              "      <td>21.15</td>\n",
              "      <td>1419.4</td>\n",
              "      <td>No</td>\n",
              "    </tr>\n",
              "    <tr>\n",
              "      <th>7038</th>\n",
              "      <td>6840-RESVB</td>\n",
              "      <td>Male</td>\n",
              "      <td>0</td>\n",
              "      <td>Yes</td>\n",
              "      <td>Yes</td>\n",
              "      <td>24</td>\n",
              "      <td>Yes</td>\n",
              "      <td>Yes</td>\n",
              "      <td>DSL</td>\n",
              "      <td>Yes</td>\n",
              "      <td>No</td>\n",
              "      <td>Yes</td>\n",
              "      <td>Yes</td>\n",
              "      <td>Yes</td>\n",
              "      <td>Yes</td>\n",
              "      <td>One year</td>\n",
              "      <td>Yes</td>\n",
              "      <td>Mailed check</td>\n",
              "      <td>84.80</td>\n",
              "      <td>1990.5</td>\n",
              "      <td>No</td>\n",
              "    </tr>\n",
              "    <tr>\n",
              "      <th>7039</th>\n",
              "      <td>2234-XADUH</td>\n",
              "      <td>Female</td>\n",
              "      <td>0</td>\n",
              "      <td>Yes</td>\n",
              "      <td>Yes</td>\n",
              "      <td>72</td>\n",
              "      <td>Yes</td>\n",
              "      <td>Yes</td>\n",
              "      <td>Fiber optic</td>\n",
              "      <td>No</td>\n",
              "      <td>Yes</td>\n",
              "      <td>Yes</td>\n",
              "      <td>No</td>\n",
              "      <td>Yes</td>\n",
              "      <td>Yes</td>\n",
              "      <td>One year</td>\n",
              "      <td>Yes</td>\n",
              "      <td>Credit card (automatic)</td>\n",
              "      <td>103.20</td>\n",
              "      <td>7362.9</td>\n",
              "      <td>No</td>\n",
              "    </tr>\n",
              "    <tr>\n",
              "      <th>7040</th>\n",
              "      <td>4801-JZAZL</td>\n",
              "      <td>Female</td>\n",
              "      <td>0</td>\n",
              "      <td>Yes</td>\n",
              "      <td>Yes</td>\n",
              "      <td>11</td>\n",
              "      <td>No</td>\n",
              "      <td>No phone service</td>\n",
              "      <td>DSL</td>\n",
              "      <td>Yes</td>\n",
              "      <td>No</td>\n",
              "      <td>No</td>\n",
              "      <td>No</td>\n",
              "      <td>No</td>\n",
              "      <td>No</td>\n",
              "      <td>Month-to-month</td>\n",
              "      <td>Yes</td>\n",
              "      <td>Electronic check</td>\n",
              "      <td>29.60</td>\n",
              "      <td>346.45</td>\n",
              "      <td>No</td>\n",
              "    </tr>\n",
              "    <tr>\n",
              "      <th>7041</th>\n",
              "      <td>8361-LTMKD</td>\n",
              "      <td>Male</td>\n",
              "      <td>1</td>\n",
              "      <td>Yes</td>\n",
              "      <td>No</td>\n",
              "      <td>4</td>\n",
              "      <td>Yes</td>\n",
              "      <td>Yes</td>\n",
              "      <td>Fiber optic</td>\n",
              "      <td>No</td>\n",
              "      <td>No</td>\n",
              "      <td>No</td>\n",
              "      <td>No</td>\n",
              "      <td>No</td>\n",
              "      <td>No</td>\n",
              "      <td>Month-to-month</td>\n",
              "      <td>Yes</td>\n",
              "      <td>Mailed check</td>\n",
              "      <td>74.40</td>\n",
              "      <td>306.6</td>\n",
              "      <td>Yes</td>\n",
              "    </tr>\n",
              "    <tr>\n",
              "      <th>7042</th>\n",
              "      <td>3186-AJIEK</td>\n",
              "      <td>Male</td>\n",
              "      <td>0</td>\n",
              "      <td>No</td>\n",
              "      <td>No</td>\n",
              "      <td>66</td>\n",
              "      <td>Yes</td>\n",
              "      <td>No</td>\n",
              "      <td>Fiber optic</td>\n",
              "      <td>Yes</td>\n",
              "      <td>No</td>\n",
              "      <td>Yes</td>\n",
              "      <td>Yes</td>\n",
              "      <td>Yes</td>\n",
              "      <td>Yes</td>\n",
              "      <td>Two year</td>\n",
              "      <td>Yes</td>\n",
              "      <td>Bank transfer (automatic)</td>\n",
              "      <td>105.65</td>\n",
              "      <td>6844.5</td>\n",
              "      <td>No</td>\n",
              "    </tr>\n",
              "  </tbody>\n",
              "</table>\n",
              "</div>"
            ],
            "text/plain": [
              "      customerID  gender  SeniorCitizen  ... MonthlyCharges TotalCharges  Churn\n",
              "7036  7750-EYXWZ  Female              0  ...          60.65        743.3     No\n",
              "7037  2569-WGERO  Female              0  ...          21.15       1419.4     No\n",
              "7038  6840-RESVB    Male              0  ...          84.80       1990.5     No\n",
              "7039  2234-XADUH  Female              0  ...         103.20       7362.9     No\n",
              "7040  4801-JZAZL  Female              0  ...          29.60       346.45     No\n",
              "7041  8361-LTMKD    Male              1  ...          74.40        306.6    Yes\n",
              "7042  3186-AJIEK    Male              0  ...         105.65       6844.5     No\n",
              "\n",
              "[7 rows x 21 columns]"
            ]
          },
          "metadata": {
            "tags": []
          },
          "execution_count": 796
        }
      ]
    },
    {
      "cell_type": "code",
      "metadata": {
        "colab": {
          "base_uri": "https://localhost:8080/"
        },
        "id": "2kZ_MY8ppgQa",
        "outputId": "00b35018-c895-444a-8f3b-185e56d613d1"
      },
      "source": [
        "#exibir tamanho do dataset\n",
        "print('Linhas: {}'.format(churn.shape[0]))\n",
        "print('Colunas: {}'.format(churn.shape[1]))"
      ],
      "execution_count": 797,
      "outputs": [
        {
          "output_type": "stream",
          "text": [
            "Linhas: 7043\n",
            "Colunas: 21\n"
          ],
          "name": "stdout"
        }
      ]
    },
    {
      "cell_type": "code",
      "metadata": {
        "colab": {
          "base_uri": "https://localhost:8080/"
        },
        "id": "gV-a5HaSisOY",
        "outputId": "88aa8d8f-5532-4b0f-de78-5777704b0088"
      },
      "source": [
        "#valores únicos por coluna\n",
        "churn.nunique()"
      ],
      "execution_count": 798,
      "outputs": [
        {
          "output_type": "execute_result",
          "data": {
            "text/plain": [
              "customerID          7043\n",
              "gender                 2\n",
              "SeniorCitizen          2\n",
              "Partner                2\n",
              "Dependents             2\n",
              "tenure                73\n",
              "PhoneService           2\n",
              "MultipleLines          3\n",
              "InternetService        3\n",
              "OnlineSecurity         3\n",
              "OnlineBackup           3\n",
              "DeviceProtection       3\n",
              "TechSupport            3\n",
              "StreamingTV            3\n",
              "StreamingMovies        3\n",
              "Contract               3\n",
              "PaperlessBilling       2\n",
              "PaymentMethod          4\n",
              "MonthlyCharges      1585\n",
              "TotalCharges        6531\n",
              "Churn                  2\n",
              "dtype: int64"
            ]
          },
          "metadata": {
            "tags": []
          },
          "execution_count": 798
        }
      ]
    },
    {
      "cell_type": "markdown",
      "metadata": {
        "id": "LkPKaKJ0LUCy"
      },
      "source": [
        "Podemos verificar que neste momento para detectar a razão de um cliente deixar de consumir um produto, é irrelevante a coluna `customerID`, portanto iremos removê-la pois no futuro teremos que transformar todas as colunas em variáveis númericas binárias."
      ]
    },
    {
      "cell_type": "code",
      "metadata": {
        "id": "KJgeqE3lLr3g"
      },
      "source": [
        "#eliminando colunas customerID\n",
        "churn.drop('customerID', axis=1, inplace=True)"
      ],
      "execution_count": 799,
      "outputs": []
    },
    {
      "cell_type": "code",
      "metadata": {
        "colab": {
          "base_uri": "https://localhost:8080/",
          "height": 375
        },
        "id": "9CKY2d-GL5k2",
        "outputId": "f8895598-1730-40c2-ac93-ce0da62b5af8"
      },
      "source": [
        "#exibindo novo dataset, sem customerID\n",
        "churn.head(7)"
      ],
      "execution_count": 800,
      "outputs": [
        {
          "output_type": "execute_result",
          "data": {
            "text/html": [
              "<div>\n",
              "<style scoped>\n",
              "    .dataframe tbody tr th:only-of-type {\n",
              "        vertical-align: middle;\n",
              "    }\n",
              "\n",
              "    .dataframe tbody tr th {\n",
              "        vertical-align: top;\n",
              "    }\n",
              "\n",
              "    .dataframe thead th {\n",
              "        text-align: right;\n",
              "    }\n",
              "</style>\n",
              "<table border=\"1\" class=\"dataframe\">\n",
              "  <thead>\n",
              "    <tr style=\"text-align: right;\">\n",
              "      <th></th>\n",
              "      <th>gender</th>\n",
              "      <th>SeniorCitizen</th>\n",
              "      <th>Partner</th>\n",
              "      <th>Dependents</th>\n",
              "      <th>tenure</th>\n",
              "      <th>PhoneService</th>\n",
              "      <th>MultipleLines</th>\n",
              "      <th>InternetService</th>\n",
              "      <th>OnlineSecurity</th>\n",
              "      <th>OnlineBackup</th>\n",
              "      <th>DeviceProtection</th>\n",
              "      <th>TechSupport</th>\n",
              "      <th>StreamingTV</th>\n",
              "      <th>StreamingMovies</th>\n",
              "      <th>Contract</th>\n",
              "      <th>PaperlessBilling</th>\n",
              "      <th>PaymentMethod</th>\n",
              "      <th>MonthlyCharges</th>\n",
              "      <th>TotalCharges</th>\n",
              "      <th>Churn</th>\n",
              "    </tr>\n",
              "  </thead>\n",
              "  <tbody>\n",
              "    <tr>\n",
              "      <th>0</th>\n",
              "      <td>Female</td>\n",
              "      <td>0</td>\n",
              "      <td>Yes</td>\n",
              "      <td>No</td>\n",
              "      <td>1</td>\n",
              "      <td>No</td>\n",
              "      <td>No phone service</td>\n",
              "      <td>DSL</td>\n",
              "      <td>No</td>\n",
              "      <td>Yes</td>\n",
              "      <td>No</td>\n",
              "      <td>No</td>\n",
              "      <td>No</td>\n",
              "      <td>No</td>\n",
              "      <td>Month-to-month</td>\n",
              "      <td>Yes</td>\n",
              "      <td>Electronic check</td>\n",
              "      <td>29.85</td>\n",
              "      <td>29.85</td>\n",
              "      <td>No</td>\n",
              "    </tr>\n",
              "    <tr>\n",
              "      <th>1</th>\n",
              "      <td>Male</td>\n",
              "      <td>0</td>\n",
              "      <td>No</td>\n",
              "      <td>No</td>\n",
              "      <td>34</td>\n",
              "      <td>Yes</td>\n",
              "      <td>No</td>\n",
              "      <td>DSL</td>\n",
              "      <td>Yes</td>\n",
              "      <td>No</td>\n",
              "      <td>Yes</td>\n",
              "      <td>No</td>\n",
              "      <td>No</td>\n",
              "      <td>No</td>\n",
              "      <td>One year</td>\n",
              "      <td>No</td>\n",
              "      <td>Mailed check</td>\n",
              "      <td>56.95</td>\n",
              "      <td>1889.5</td>\n",
              "      <td>No</td>\n",
              "    </tr>\n",
              "    <tr>\n",
              "      <th>2</th>\n",
              "      <td>Male</td>\n",
              "      <td>0</td>\n",
              "      <td>No</td>\n",
              "      <td>No</td>\n",
              "      <td>2</td>\n",
              "      <td>Yes</td>\n",
              "      <td>No</td>\n",
              "      <td>DSL</td>\n",
              "      <td>Yes</td>\n",
              "      <td>Yes</td>\n",
              "      <td>No</td>\n",
              "      <td>No</td>\n",
              "      <td>No</td>\n",
              "      <td>No</td>\n",
              "      <td>Month-to-month</td>\n",
              "      <td>Yes</td>\n",
              "      <td>Mailed check</td>\n",
              "      <td>53.85</td>\n",
              "      <td>108.15</td>\n",
              "      <td>Yes</td>\n",
              "    </tr>\n",
              "    <tr>\n",
              "      <th>3</th>\n",
              "      <td>Male</td>\n",
              "      <td>0</td>\n",
              "      <td>No</td>\n",
              "      <td>No</td>\n",
              "      <td>45</td>\n",
              "      <td>No</td>\n",
              "      <td>No phone service</td>\n",
              "      <td>DSL</td>\n",
              "      <td>Yes</td>\n",
              "      <td>No</td>\n",
              "      <td>Yes</td>\n",
              "      <td>Yes</td>\n",
              "      <td>No</td>\n",
              "      <td>No</td>\n",
              "      <td>One year</td>\n",
              "      <td>No</td>\n",
              "      <td>Bank transfer (automatic)</td>\n",
              "      <td>42.30</td>\n",
              "      <td>1840.75</td>\n",
              "      <td>No</td>\n",
              "    </tr>\n",
              "    <tr>\n",
              "      <th>4</th>\n",
              "      <td>Female</td>\n",
              "      <td>0</td>\n",
              "      <td>No</td>\n",
              "      <td>No</td>\n",
              "      <td>2</td>\n",
              "      <td>Yes</td>\n",
              "      <td>No</td>\n",
              "      <td>Fiber optic</td>\n",
              "      <td>No</td>\n",
              "      <td>No</td>\n",
              "      <td>No</td>\n",
              "      <td>No</td>\n",
              "      <td>No</td>\n",
              "      <td>No</td>\n",
              "      <td>Month-to-month</td>\n",
              "      <td>Yes</td>\n",
              "      <td>Electronic check</td>\n",
              "      <td>70.70</td>\n",
              "      <td>151.65</td>\n",
              "      <td>Yes</td>\n",
              "    </tr>\n",
              "    <tr>\n",
              "      <th>5</th>\n",
              "      <td>Female</td>\n",
              "      <td>0</td>\n",
              "      <td>No</td>\n",
              "      <td>No</td>\n",
              "      <td>8</td>\n",
              "      <td>Yes</td>\n",
              "      <td>Yes</td>\n",
              "      <td>Fiber optic</td>\n",
              "      <td>No</td>\n",
              "      <td>No</td>\n",
              "      <td>Yes</td>\n",
              "      <td>No</td>\n",
              "      <td>Yes</td>\n",
              "      <td>Yes</td>\n",
              "      <td>Month-to-month</td>\n",
              "      <td>Yes</td>\n",
              "      <td>Electronic check</td>\n",
              "      <td>99.65</td>\n",
              "      <td>820.5</td>\n",
              "      <td>Yes</td>\n",
              "    </tr>\n",
              "    <tr>\n",
              "      <th>6</th>\n",
              "      <td>Male</td>\n",
              "      <td>0</td>\n",
              "      <td>No</td>\n",
              "      <td>Yes</td>\n",
              "      <td>22</td>\n",
              "      <td>Yes</td>\n",
              "      <td>Yes</td>\n",
              "      <td>Fiber optic</td>\n",
              "      <td>No</td>\n",
              "      <td>Yes</td>\n",
              "      <td>No</td>\n",
              "      <td>No</td>\n",
              "      <td>Yes</td>\n",
              "      <td>No</td>\n",
              "      <td>Month-to-month</td>\n",
              "      <td>Yes</td>\n",
              "      <td>Credit card (automatic)</td>\n",
              "      <td>89.10</td>\n",
              "      <td>1949.4</td>\n",
              "      <td>No</td>\n",
              "    </tr>\n",
              "  </tbody>\n",
              "</table>\n",
              "</div>"
            ],
            "text/plain": [
              "   gender  SeniorCitizen Partner  ... MonthlyCharges  TotalCharges Churn\n",
              "0  Female              0     Yes  ...          29.85         29.85    No\n",
              "1    Male              0      No  ...          56.95        1889.5    No\n",
              "2    Male              0      No  ...          53.85        108.15   Yes\n",
              "3    Male              0      No  ...          42.30       1840.75    No\n",
              "4  Female              0      No  ...          70.70        151.65   Yes\n",
              "5  Female              0      No  ...          99.65         820.5   Yes\n",
              "6    Male              0      No  ...          89.10        1949.4    No\n",
              "\n",
              "[7 rows x 20 columns]"
            ]
          },
          "metadata": {
            "tags": []
          },
          "execution_count": 800
        }
      ]
    },
    {
      "cell_type": "code",
      "metadata": {
        "colab": {
          "base_uri": "https://localhost:8080/"
        },
        "id": "ny9u81YAp26_",
        "outputId": "46b55374-413e-4a24-a305-2062b113a4e5"
      },
      "source": [
        "#exibir valores nulos/ausentes em %\n",
        "(churn.isnull().sum() / churn.shape[0]).sort_values(ascending=False)"
      ],
      "execution_count": 801,
      "outputs": [
        {
          "output_type": "execute_result",
          "data": {
            "text/plain": [
              "Churn               0.0\n",
              "TotalCharges        0.0\n",
              "SeniorCitizen       0.0\n",
              "Partner             0.0\n",
              "Dependents          0.0\n",
              "tenure              0.0\n",
              "PhoneService        0.0\n",
              "MultipleLines       0.0\n",
              "InternetService     0.0\n",
              "OnlineSecurity      0.0\n",
              "OnlineBackup        0.0\n",
              "DeviceProtection    0.0\n",
              "TechSupport         0.0\n",
              "StreamingTV         0.0\n",
              "StreamingMovies     0.0\n",
              "Contract            0.0\n",
              "PaperlessBilling    0.0\n",
              "PaymentMethod       0.0\n",
              "MonthlyCharges      0.0\n",
              "gender              0.0\n",
              "dtype: float64"
            ]
          },
          "metadata": {
            "tags": []
          },
          "execution_count": 801
        }
      ]
    },
    {
      "cell_type": "code",
      "metadata": {
        "colab": {
          "base_uri": "https://localhost:8080/"
        },
        "id": "SluvK7Bmpuaz",
        "outputId": "c6a0c9ce-ffd7-47fd-e6b1-7c51f63e48e1"
      },
      "source": [
        "#exibir mais detalhes do dataset\n",
        "churn.info()"
      ],
      "execution_count": 802,
      "outputs": [
        {
          "output_type": "stream",
          "text": [
            "<class 'pandas.core.frame.DataFrame'>\n",
            "RangeIndex: 7043 entries, 0 to 7042\n",
            "Data columns (total 20 columns):\n",
            " #   Column            Non-Null Count  Dtype  \n",
            "---  ------            --------------  -----  \n",
            " 0   gender            7043 non-null   object \n",
            " 1   SeniorCitizen     7043 non-null   int64  \n",
            " 2   Partner           7043 non-null   object \n",
            " 3   Dependents        7043 non-null   object \n",
            " 4   tenure            7043 non-null   int64  \n",
            " 5   PhoneService      7043 non-null   object \n",
            " 6   MultipleLines     7043 non-null   object \n",
            " 7   InternetService   7043 non-null   object \n",
            " 8   OnlineSecurity    7043 non-null   object \n",
            " 9   OnlineBackup      7043 non-null   object \n",
            " 10  DeviceProtection  7043 non-null   object \n",
            " 11  TechSupport       7043 non-null   object \n",
            " 12  StreamingTV       7043 non-null   object \n",
            " 13  StreamingMovies   7043 non-null   object \n",
            " 14  Contract          7043 non-null   object \n",
            " 15  PaperlessBilling  7043 non-null   object \n",
            " 16  PaymentMethod     7043 non-null   object \n",
            " 17  MonthlyCharges    7043 non-null   float64\n",
            " 18  TotalCharges      7043 non-null   object \n",
            " 19  Churn             7043 non-null   object \n",
            "dtypes: float64(1), int64(2), object(17)\n",
            "memory usage: 1.1+ MB\n"
          ],
          "name": "stdout"
        }
      ]
    },
    {
      "cell_type": "code",
      "metadata": {
        "colab": {
          "base_uri": "https://localhost:8080/",
          "height": 284
        },
        "id": "bZY3ccEZMSPz",
        "outputId": "467ccb67-a844-4c45-9c52-8cdf81e6ec76"
      },
      "source": [
        "#resumo estatístico do dataset\n",
        "churn.describe()"
      ],
      "execution_count": 803,
      "outputs": [
        {
          "output_type": "execute_result",
          "data": {
            "text/html": [
              "<div>\n",
              "<style scoped>\n",
              "    .dataframe tbody tr th:only-of-type {\n",
              "        vertical-align: middle;\n",
              "    }\n",
              "\n",
              "    .dataframe tbody tr th {\n",
              "        vertical-align: top;\n",
              "    }\n",
              "\n",
              "    .dataframe thead th {\n",
              "        text-align: right;\n",
              "    }\n",
              "</style>\n",
              "<table border=\"1\" class=\"dataframe\">\n",
              "  <thead>\n",
              "    <tr style=\"text-align: right;\">\n",
              "      <th></th>\n",
              "      <th>SeniorCitizen</th>\n",
              "      <th>tenure</th>\n",
              "      <th>MonthlyCharges</th>\n",
              "    </tr>\n",
              "  </thead>\n",
              "  <tbody>\n",
              "    <tr>\n",
              "      <th>count</th>\n",
              "      <td>7043.000000</td>\n",
              "      <td>7043.000000</td>\n",
              "      <td>7043.000000</td>\n",
              "    </tr>\n",
              "    <tr>\n",
              "      <th>mean</th>\n",
              "      <td>0.162147</td>\n",
              "      <td>32.371149</td>\n",
              "      <td>64.761692</td>\n",
              "    </tr>\n",
              "    <tr>\n",
              "      <th>std</th>\n",
              "      <td>0.368612</td>\n",
              "      <td>24.559481</td>\n",
              "      <td>30.090047</td>\n",
              "    </tr>\n",
              "    <tr>\n",
              "      <th>min</th>\n",
              "      <td>0.000000</td>\n",
              "      <td>0.000000</td>\n",
              "      <td>18.250000</td>\n",
              "    </tr>\n",
              "    <tr>\n",
              "      <th>25%</th>\n",
              "      <td>0.000000</td>\n",
              "      <td>9.000000</td>\n",
              "      <td>35.500000</td>\n",
              "    </tr>\n",
              "    <tr>\n",
              "      <th>50%</th>\n",
              "      <td>0.000000</td>\n",
              "      <td>29.000000</td>\n",
              "      <td>70.350000</td>\n",
              "    </tr>\n",
              "    <tr>\n",
              "      <th>75%</th>\n",
              "      <td>0.000000</td>\n",
              "      <td>55.000000</td>\n",
              "      <td>89.850000</td>\n",
              "    </tr>\n",
              "    <tr>\n",
              "      <th>max</th>\n",
              "      <td>1.000000</td>\n",
              "      <td>72.000000</td>\n",
              "      <td>118.750000</td>\n",
              "    </tr>\n",
              "  </tbody>\n",
              "</table>\n",
              "</div>"
            ],
            "text/plain": [
              "       SeniorCitizen       tenure  MonthlyCharges\n",
              "count    7043.000000  7043.000000     7043.000000\n",
              "mean        0.162147    32.371149       64.761692\n",
              "std         0.368612    24.559481       30.090047\n",
              "min         0.000000     0.000000       18.250000\n",
              "25%         0.000000     9.000000       35.500000\n",
              "50%         0.000000    29.000000       70.350000\n",
              "75%         0.000000    55.000000       89.850000\n",
              "max         1.000000    72.000000      118.750000"
            ]
          },
          "metadata": {
            "tags": []
          },
          "execution_count": 803
        }
      ]
    },
    {
      "cell_type": "markdown",
      "metadata": {
        "id": "qdM-_trZMdhl"
      },
      "source": [
        "Após exibir o comando `churn.info` e `churn.describe`, nota-se que no resumo estatístico não foi exibido a coluna `TotalCharges` que é um valor numérico. Isso aconteceu pois essa variável foi classificada como *String(object)* no `dataset`. Vamos reparar isso convertendo a variável categórica para uma variável numérica."
      ]
    },
    {
      "cell_type": "code",
      "metadata": {
        "colab": {
          "base_uri": "https://localhost:8080/"
        },
        "id": "fzDS0eXgNKTV",
        "outputId": "32a5fd9b-0a75-4331-d36c-705d7ca72cb3"
      },
      "source": [
        "#valores diferentes de ' '(espaço em branco)\n",
        "len(churn[churn['TotalCharges'] != ' '])"
      ],
      "execution_count": 804,
      "outputs": [
        {
          "output_type": "execute_result",
          "data": {
            "text/plain": [
              "7032"
            ]
          },
          "metadata": {
            "tags": []
          },
          "execution_count": 804
        }
      ]
    },
    {
      "cell_type": "code",
      "metadata": {
        "colab": {
          "base_uri": "https://localhost:8080/"
        },
        "id": "rSNNH13LQae0",
        "outputId": "67e8e001-3863-4ee5-b2f1-a3f613d1c613"
      },
      "source": [
        "#valores iguais à um espaço em branco\n",
        "len(churn[churn['TotalCharges'] == ' '])"
      ],
      "execution_count": 805,
      "outputs": [
        {
          "output_type": "execute_result",
          "data": {
            "text/plain": [
              "11"
            ]
          },
          "metadata": {
            "tags": []
          },
          "execution_count": 805
        }
      ]
    },
    {
      "cell_type": "markdown",
      "metadata": {
        "id": "HltAXioHQdxG"
      },
      "source": [
        "Usamos uma lógica para verificar se existem linhas diferentes de números. Com isso buscamos todo conteúdo que seja diferente de um espaço em branco. O total foi de `7032`.\n",
        "\n",
        "Após, fizemos a leitura de toda linha que fosse igual à um espaço em branco. O total foi de `11`.\n",
        "\n",
        "Como o `dataset` tem `7043` linhas, ficou claro que para convertermos essa variável `TotalCharges` vamos precisar converter as linhas com espaço em branco para valores ausentes/nulos e depois aplicar em seguida a mediana da coluna para esses `11` valores."
      ]
    },
    {
      "cell_type": "code",
      "metadata": {
        "id": "3130WfZqOOyQ"
      },
      "source": [
        "#transformando valores de espaço em branco em NaN\n",
        "churn.loc[churn['TotalCharges'] == ' ', 'TotalCharges'] = np.nan"
      ],
      "execution_count": 806,
      "outputs": []
    },
    {
      "cell_type": "code",
      "metadata": {
        "colab": {
          "base_uri": "https://localhost:8080/"
        },
        "id": "2UAyz_LsS4Eh",
        "outputId": "2fc8d0da-b534-4b3f-f3f1-a68a8e3acdc3"
      },
      "source": [
        "len(churn[churn['TotalCharges'] != ' '])"
      ],
      "execution_count": 807,
      "outputs": [
        {
          "output_type": "execute_result",
          "data": {
            "text/plain": [
              "7043"
            ]
          },
          "metadata": {
            "tags": []
          },
          "execution_count": 807
        }
      ]
    },
    {
      "cell_type": "code",
      "metadata": {
        "colab": {
          "base_uri": "https://localhost:8080/"
        },
        "id": "yKJyh0f0UDKb",
        "outputId": "651735cf-3f0c-4e81-daed-9f88d31d0863"
      },
      "source": [
        "#exibindo valores ausentes do dataset após transformação\n",
        "churn.isnull().sum()"
      ],
      "execution_count": 808,
      "outputs": [
        {
          "output_type": "execute_result",
          "data": {
            "text/plain": [
              "gender               0\n",
              "SeniorCitizen        0\n",
              "Partner              0\n",
              "Dependents           0\n",
              "tenure               0\n",
              "PhoneService         0\n",
              "MultipleLines        0\n",
              "InternetService      0\n",
              "OnlineSecurity       0\n",
              "OnlineBackup         0\n",
              "DeviceProtection     0\n",
              "TechSupport          0\n",
              "StreamingTV          0\n",
              "StreamingMovies      0\n",
              "Contract             0\n",
              "PaperlessBilling     0\n",
              "PaymentMethod        0\n",
              "MonthlyCharges       0\n",
              "TotalCharges        11\n",
              "Churn                0\n",
              "dtype: int64"
            ]
          },
          "metadata": {
            "tags": []
          },
          "execution_count": 808
        }
      ]
    },
    {
      "cell_type": "markdown",
      "metadata": {
        "id": "G1rkYI99TFtq"
      },
      "source": [
        "Agora com valores substituídos não vamos encontrar dificuldades para converter para um valor numérico do tipo `float`. "
      ]
    },
    {
      "cell_type": "code",
      "metadata": {
        "id": "2Y0dzT4wU3Wc"
      },
      "source": [
        "#preenchendo os 11 valores ausentes com a mediana da variável TotalCharges\n",
        "tc_mediana = churn['TotalCharges'].median()\n",
        "churn['TotalCharges'].fillna(tc_mediana, inplace=True)"
      ],
      "execution_count": 809,
      "outputs": []
    },
    {
      "cell_type": "code",
      "metadata": {
        "id": "qvBPGwixVPzP"
      },
      "source": [
        "#convertendo a variável TotalCharges para tipo FLOAT\n",
        "churn['TotalCharges'] = churn['TotalCharges'].astype(float)"
      ],
      "execution_count": 810,
      "outputs": []
    },
    {
      "cell_type": "code",
      "metadata": {
        "colab": {
          "base_uri": "https://localhost:8080/",
          "height": 284
        },
        "id": "2tchzZFOVdI6",
        "outputId": "d2fb5a99-3947-4f53-bb71-d5248e9dbf79"
      },
      "source": [
        "#novo resumo estatístico após conversão da variável\n",
        "churn.describe()"
      ],
      "execution_count": 811,
      "outputs": [
        {
          "output_type": "execute_result",
          "data": {
            "text/html": [
              "<div>\n",
              "<style scoped>\n",
              "    .dataframe tbody tr th:only-of-type {\n",
              "        vertical-align: middle;\n",
              "    }\n",
              "\n",
              "    .dataframe tbody tr th {\n",
              "        vertical-align: top;\n",
              "    }\n",
              "\n",
              "    .dataframe thead th {\n",
              "        text-align: right;\n",
              "    }\n",
              "</style>\n",
              "<table border=\"1\" class=\"dataframe\">\n",
              "  <thead>\n",
              "    <tr style=\"text-align: right;\">\n",
              "      <th></th>\n",
              "      <th>SeniorCitizen</th>\n",
              "      <th>tenure</th>\n",
              "      <th>MonthlyCharges</th>\n",
              "      <th>TotalCharges</th>\n",
              "    </tr>\n",
              "  </thead>\n",
              "  <tbody>\n",
              "    <tr>\n",
              "      <th>count</th>\n",
              "      <td>7043.000000</td>\n",
              "      <td>7043.000000</td>\n",
              "      <td>7043.000000</td>\n",
              "      <td>7043.000000</td>\n",
              "    </tr>\n",
              "    <tr>\n",
              "      <th>mean</th>\n",
              "      <td>0.162147</td>\n",
              "      <td>32.371149</td>\n",
              "      <td>64.761692</td>\n",
              "      <td>2281.916928</td>\n",
              "    </tr>\n",
              "    <tr>\n",
              "      <th>std</th>\n",
              "      <td>0.368612</td>\n",
              "      <td>24.559481</td>\n",
              "      <td>30.090047</td>\n",
              "      <td>2265.270398</td>\n",
              "    </tr>\n",
              "    <tr>\n",
              "      <th>min</th>\n",
              "      <td>0.000000</td>\n",
              "      <td>0.000000</td>\n",
              "      <td>18.250000</td>\n",
              "      <td>18.800000</td>\n",
              "    </tr>\n",
              "    <tr>\n",
              "      <th>25%</th>\n",
              "      <td>0.000000</td>\n",
              "      <td>9.000000</td>\n",
              "      <td>35.500000</td>\n",
              "      <td>402.225000</td>\n",
              "    </tr>\n",
              "    <tr>\n",
              "      <th>50%</th>\n",
              "      <td>0.000000</td>\n",
              "      <td>29.000000</td>\n",
              "      <td>70.350000</td>\n",
              "      <td>1397.475000</td>\n",
              "    </tr>\n",
              "    <tr>\n",
              "      <th>75%</th>\n",
              "      <td>0.000000</td>\n",
              "      <td>55.000000</td>\n",
              "      <td>89.850000</td>\n",
              "      <td>3786.600000</td>\n",
              "    </tr>\n",
              "    <tr>\n",
              "      <th>max</th>\n",
              "      <td>1.000000</td>\n",
              "      <td>72.000000</td>\n",
              "      <td>118.750000</td>\n",
              "      <td>8684.800000</td>\n",
              "    </tr>\n",
              "  </tbody>\n",
              "</table>\n",
              "</div>"
            ],
            "text/plain": [
              "       SeniorCitizen       tenure  MonthlyCharges  TotalCharges\n",
              "count    7043.000000  7043.000000     7043.000000   7043.000000\n",
              "mean        0.162147    32.371149       64.761692   2281.916928\n",
              "std         0.368612    24.559481       30.090047   2265.270398\n",
              "min         0.000000     0.000000       18.250000     18.800000\n",
              "25%         0.000000     9.000000       35.500000    402.225000\n",
              "50%         0.000000    29.000000       70.350000   1397.475000\n",
              "75%         0.000000    55.000000       89.850000   3786.600000\n",
              "max         1.000000    72.000000      118.750000   8684.800000"
            ]
          },
          "metadata": {
            "tags": []
          },
          "execution_count": 811
        }
      ]
    },
    {
      "cell_type": "markdown",
      "metadata": {
        "id": "dDn_jlHzlWjp"
      },
      "source": [
        "#Análise dos dados"
      ]
    },
    {
      "cell_type": "markdown",
      "metadata": {
        "id": "bZLh2_COliQF"
      },
      "source": [
        "Neste `dataset` vamos avaliar a possibilidade de um cliente deixar de usar o produto da empresa. \n",
        "\n",
        "Por esse motivo usaremos a coluna `Churn` como variável alvo para os modelos.\n",
        "\n",
        "Trata-se de uma variável categórica, dividida em 2 possibilidades: *Yes ou No*. "
      ]
    },
    {
      "cell_type": "code",
      "metadata": {
        "colab": {
          "base_uri": "https://localhost:8080/"
        },
        "id": "iwRf7XwsqL2p",
        "outputId": "71649c16-c39d-4275-f6a6-b0692e9c693b"
      },
      "source": [
        "#exibir valores da coluna Churn e porcentagem \n",
        "print(churn['Churn'].value_counts())\n",
        "print('\\nTotal de Churn é {:.2%}'.format(churn[churn['Churn'] == 'Yes'].shape[0] / churn.shape[0]))"
      ],
      "execution_count": 812,
      "outputs": [
        {
          "output_type": "stream",
          "text": [
            "No     5174\n",
            "Yes    1869\n",
            "Name: Churn, dtype: int64\n",
            "\n",
            "Total de Churn é 26.54%\n"
          ],
          "name": "stdout"
        }
      ]
    },
    {
      "cell_type": "markdown",
      "metadata": {
        "id": "wG2PIJA4YQKV"
      },
      "source": [
        "Para obter um modelo mais assertivo, precisamos balancear o `dataset`. Na variável `Churn`, já podemos perceber que não está, visto que *No* tem muito mais resultados que *Yes*.\n",
        "\n",
        "Mas antes, vamos verificar nas variáveis categóricas se existem respostas além de `Yes` ou `No`."
      ]
    },
    {
      "cell_type": "code",
      "metadata": {
        "colab": {
          "base_uri": "https://localhost:8080/"
        },
        "id": "ZYGgYEZZY3Yf",
        "outputId": "7440b0e8-b113-4547-bc3c-65f0bed38d92"
      },
      "source": [
        "#criando uma função que faz a leitura dos conteúdo das variáveis categóricas\n",
        "def respostas():\n",
        "  colunas = np.unique(churn.select_dtypes('object').columns)\n",
        "  for r in colunas:\n",
        "    print(r, churn[r].unique())\n",
        "\n",
        "respostas()"
      ],
      "execution_count": 813,
      "outputs": [
        {
          "output_type": "stream",
          "text": [
            "Churn ['No' 'Yes']\n",
            "Contract ['Month-to-month' 'One year' 'Two year']\n",
            "Dependents ['No' 'Yes']\n",
            "DeviceProtection ['No' 'Yes' 'No internet service']\n",
            "InternetService ['DSL' 'Fiber optic' 'No']\n",
            "MultipleLines ['No phone service' 'No' 'Yes']\n",
            "OnlineBackup ['Yes' 'No' 'No internet service']\n",
            "OnlineSecurity ['No' 'Yes' 'No internet service']\n",
            "PaperlessBilling ['Yes' 'No']\n",
            "Partner ['Yes' 'No']\n",
            "PaymentMethod ['Electronic check' 'Mailed check' 'Bank transfer (automatic)'\n",
            " 'Credit card (automatic)']\n",
            "PhoneService ['No' 'Yes']\n",
            "StreamingMovies ['No' 'Yes' 'No internet service']\n",
            "StreamingTV ['No' 'Yes' 'No internet service']\n",
            "TechSupport ['No' 'Yes' 'No internet service']\n",
            "gender ['Female' 'Male']\n"
          ],
          "name": "stdout"
        }
      ]
    },
    {
      "cell_type": "markdown",
      "metadata": {
        "id": "fmBA1Zi6b18k"
      },
      "source": [
        "As variáveis `DeviceProtection`, `OnlineBackup`, `OnlineSecurity`, `StreamingMovies`, `StreamingTV`, `TechSupport` possuem 3 categorias. Vamos assumir que a resposta `No internet service` será `No`."
      ]
    },
    {
      "cell_type": "code",
      "metadata": {
        "id": "AHicwxyLccM-"
      },
      "source": [
        "#convertendo respostas No internet service para No\n",
        "y_n = ['DeviceProtection', 'OnlineBackup', 'OnlineSecurity', 'StreamingMovies', 'StreamingTV', 'TechSupport']\n",
        "\n",
        "for r in y_n:\n",
        "  churn.loc[churn[r].isin(['No internet service']), r] = 'No'"
      ],
      "execution_count": 814,
      "outputs": []
    },
    {
      "cell_type": "code",
      "metadata": {
        "colab": {
          "base_uri": "https://localhost:8080/"
        },
        "id": "QdWbcJOtdJYb",
        "outputId": "a5ab7b84-d086-4315-b14a-2a6f22625855"
      },
      "source": [
        "#nova lista de variáveis categóricas\n",
        "respostas()"
      ],
      "execution_count": 815,
      "outputs": [
        {
          "output_type": "stream",
          "text": [
            "Churn ['No' 'Yes']\n",
            "Contract ['Month-to-month' 'One year' 'Two year']\n",
            "Dependents ['No' 'Yes']\n",
            "DeviceProtection ['No' 'Yes']\n",
            "InternetService ['DSL' 'Fiber optic' 'No']\n",
            "MultipleLines ['No phone service' 'No' 'Yes']\n",
            "OnlineBackup ['Yes' 'No']\n",
            "OnlineSecurity ['No' 'Yes']\n",
            "PaperlessBilling ['Yes' 'No']\n",
            "Partner ['Yes' 'No']\n",
            "PaymentMethod ['Electronic check' 'Mailed check' 'Bank transfer (automatic)'\n",
            " 'Credit card (automatic)']\n",
            "PhoneService ['No' 'Yes']\n",
            "StreamingMovies ['No' 'Yes']\n",
            "StreamingTV ['No' 'Yes']\n",
            "TechSupport ['No' 'Yes']\n",
            "gender ['Female' 'Male']\n"
          ],
          "name": "stdout"
        }
      ]
    },
    {
      "cell_type": "code",
      "metadata": {
        "id": "_OqFEm7hqYvk"
      },
      "source": [
        "#converter variável categórica em numérica\n",
        "churn.loc[churn.Churn == 'No', 'Churn'] = 0\n",
        "churn.loc[churn.Churn == 'Yes', 'Churn'] = 1\n",
        "churn['Churn'] = churn['Churn'].astype(int)"
      ],
      "execution_count": 816,
      "outputs": []
    },
    {
      "cell_type": "code",
      "metadata": {
        "colab": {
          "base_uri": "https://localhost:8080/"
        },
        "id": "OM1t-gsYrUfn",
        "outputId": "d85438c6-75c6-4358-e670-9c42e866aae5"
      },
      "source": [
        "#após conversão da variável Churn\n",
        "churn['Churn'] "
      ],
      "execution_count": 817,
      "outputs": [
        {
          "output_type": "execute_result",
          "data": {
            "text/plain": [
              "0       0\n",
              "1       0\n",
              "2       1\n",
              "3       0\n",
              "4       1\n",
              "       ..\n",
              "7038    0\n",
              "7039    0\n",
              "7040    0\n",
              "7041    1\n",
              "7042    0\n",
              "Name: Churn, Length: 7043, dtype: int64"
            ]
          },
          "metadata": {
            "tags": []
          },
          "execution_count": 817
        }
      ]
    },
    {
      "cell_type": "markdown",
      "metadata": {
        "id": "Uh2AxuUqeDmg"
      },
      "source": [
        "Vamos comparar algumas variáveis com a variável `Churn` para tentar demonstrar algumas relações entre elas."
      ]
    },
    {
      "cell_type": "code",
      "metadata": {
        "colab": {
          "base_uri": "https://localhost:8080/",
          "height": 547
        },
        "id": "uvqcBtsUeiW2",
        "outputId": "786d9bc5-fd4d-4e64-bc88-74a7d1176095"
      },
      "source": [
        "fig, ax = plt.subplots(nrows=2, ncols=3, figsize=(12,8))\n",
        "\n",
        "sns.barplot(churn['DeviceProtection'], churn['Churn'], color='#1e4ed4', ci=None, ax=ax[0][0])\n",
        "ax[0][0].set_facecolor('#ced1d9')\n",
        "ax[0][0].set_ylim(0,1)\n",
        "ax[0][0].set_xlabel(None)\n",
        "ax[0][0].set_title('DeviceProtection')\n",
        "\n",
        "sns.barplot(churn['OnlineSecurity'], churn['Churn'], color='#1e4ed4', ci=None, ax=ax[0][1])\n",
        "ax[0][1].set_facecolor('#ced1d9')\n",
        "ax[0][1].set_ylim(0,1)\n",
        "ax[0][1].set_xlabel(None)\n",
        "ax[0][1].set_ylabel(None)\n",
        "ax[0][1].set_title('OnlineSecurity')\n",
        "\n",
        "sns.barplot(churn['StreamingTV'], churn['Churn'], color='#1e4ed4', ci=None, ax=ax[0][2])\n",
        "ax[0][2].set_facecolor('#ced1d9')\n",
        "ax[0][2].set_ylim(0,1)\n",
        "ax[0][2].set_xlabel(None)\n",
        "ax[0][2].set_ylabel(None)\n",
        "ax[0][2].set_title('StreamingTV')\n",
        "\n",
        "sns.barplot(churn['Dependents'], churn['Churn'], color='#1e4ed4', ci=None, ax=ax[1][0])\n",
        "ax[1][0].set_facecolor('#ced1d9')\n",
        "ax[1][0].set_ylim(0,1)\n",
        "ax[1][0].set_xlabel(None)\n",
        "ax[1][0].set_title('Dependents')\n",
        "\n",
        "sns.barplot(churn['Contract'], churn['Churn'], color='#1e4ed4', ci=None, ax=ax[1][1])\n",
        "ax[1][1].set_facecolor('#ced1d9')\n",
        "ax[1][1].set_ylim(0,1)\n",
        "ax[1][1].set_xlabel(None)\n",
        "ax[1][1].set_ylabel(None)\n",
        "ax[1][1].set_title('Contract')\n",
        "\n",
        "sns.barplot(churn['StreamingMovies'], churn['Churn'], color='#1e4ed4', ci=None, ax=ax[1][2])\n",
        "ax[1][2].set_facecolor('#ced1d9')\n",
        "ax[1][2].set_ylim(0,1)\n",
        "ax[1][2].set_xlabel(None)\n",
        "ax[1][2].set_ylabel(None)\n",
        "ax[1][2].set_title('StreamingMovies')\n",
        "\n",
        "plt.tight_layout(pad=3.0)"
      ],
      "execution_count": 818,
      "outputs": [
        {
          "output_type": "display_data",
          "data": {
            "image/png": "[encoded data removed]",
            "text/plain": [
              "<Figure size 864x576 with 6 Axes>"
            ]
          },
          "metadata": {
            "tags": [],
            "needs_background": "light"
          }
        }
      ]
    },
    {
      "cell_type": "markdown",
      "metadata": {
        "id": "wr2pYdMfmUYk"
      },
      "source": [
        "Pelos gráficos de barra, podemos tirar algumas conclusões:\n",
        "\n",
        "\n",
        "*   Clientes que não tem proteção de dispositivos e segurança online são propensos a cancelar o serviço da empresa, assim como clientes que não tem dependentes.\n",
        "*   Clientes com serviços de filmes e TV são propensos a cancelar o serviço com a empresa.\n",
        "* Clientes que pagam mensalmente o plano, acabam cancelando seus planos. Essa é uma informação muito importante que pode ser explorada pela empresa.\n",
        "\n"
      ]
    },
    {
      "cell_type": "markdown",
      "metadata": {
        "id": "JNNFlzl9SaAQ"
      },
      "source": [
        "#Contruindo um modelo de Machine Learning"
      ]
    },
    {
      "cell_type": "markdown",
      "metadata": {
        "id": "GmyKfS0fr0sh"
      },
      "source": [
        "Para criar um modelo de Machine Learning é necessário transformar as variáveis categóricas em numéricas. Usaremos uma função do *pandas* chamada `get_dummies` para fazer a conversão, chamando toda variável `object` e convertendo para binária. Caso a variável tenha mais de 2 opções de resposta, essa resposta vai virar uma coluna derivada da original."
      ]
    },
    {
      "cell_type": "code",
      "metadata": {
        "colab": {
          "base_uri": "https://localhost:8080/",
          "height": 308
        },
        "id": "NsS4gJ84T64Q",
        "outputId": "68a49a71-1404-4fcc-e305-bb33c1802207"
      },
      "source": [
        "#toda variável que tiver 2 tipos de resposta e for diferente da variável Churn\n",
        "variavel_binaria = [col for col in churn.columns \n",
        "           if len(churn[col].unique()) == 2 and col != 'Churn']\n",
        "\n",
        "#toda variável categórica\n",
        "variavel_cat = [col for col in churn.select_dtypes(['object']).columns.tolist() \n",
        "           if col not in bin_var]\n",
        "\n",
        "#transformando as variáveis binárias \n",
        "le = LabelEncoder()\n",
        "for col in bin_var:\n",
        "  churn[col] = le.fit_transform(churn[col])\n",
        "\n",
        "#usando a função get_dummies\n",
        "churn = pd.get_dummies(churn, columns=cat_var)\n",
        "\n",
        "churn.head(7)"
      ],
      "execution_count": 819,
      "outputs": [
        {
          "output_type": "execute_result",
          "data": {
            "text/html": [
              "<div>\n",
              "<style scoped>\n",
              "    .dataframe tbody tr th:only-of-type {\n",
              "        vertical-align: middle;\n",
              "    }\n",
              "\n",
              "    .dataframe tbody tr th {\n",
              "        vertical-align: top;\n",
              "    }\n",
              "\n",
              "    .dataframe thead th {\n",
              "        text-align: right;\n",
              "    }\n",
              "</style>\n",
              "<table border=\"1\" class=\"dataframe\">\n",
              "  <thead>\n",
              "    <tr style=\"text-align: right;\">\n",
              "      <th></th>\n",
              "      <th>gender</th>\n",
              "      <th>SeniorCitizen</th>\n",
              "      <th>Partner</th>\n",
              "      <th>Dependents</th>\n",
              "      <th>tenure</th>\n",
              "      <th>PhoneService</th>\n",
              "      <th>OnlineSecurity</th>\n",
              "      <th>OnlineBackup</th>\n",
              "      <th>DeviceProtection</th>\n",
              "      <th>TechSupport</th>\n",
              "      <th>StreamingTV</th>\n",
              "      <th>StreamingMovies</th>\n",
              "      <th>PaperlessBilling</th>\n",
              "      <th>MonthlyCharges</th>\n",
              "      <th>TotalCharges</th>\n",
              "      <th>Churn</th>\n",
              "      <th>MultipleLines_No</th>\n",
              "      <th>MultipleLines_No phone service</th>\n",
              "      <th>MultipleLines_Yes</th>\n",
              "      <th>InternetService_DSL</th>\n",
              "      <th>InternetService_Fiber optic</th>\n",
              "      <th>InternetService_No</th>\n",
              "      <th>Contract_Month-to-month</th>\n",
              "      <th>Contract_One year</th>\n",
              "      <th>Contract_Two year</th>\n",
              "      <th>PaymentMethod_Bank transfer (automatic)</th>\n",
              "      <th>PaymentMethod_Credit card (automatic)</th>\n",
              "      <th>PaymentMethod_Electronic check</th>\n",
              "      <th>PaymentMethod_Mailed check</th>\n",
              "    </tr>\n",
              "  </thead>\n",
              "  <tbody>\n",
              "    <tr>\n",
              "      <th>0</th>\n",
              "      <td>0</td>\n",
              "      <td>0</td>\n",
              "      <td>1</td>\n",
              "      <td>0</td>\n",
              "      <td>1</td>\n",
              "      <td>0</td>\n",
              "      <td>0</td>\n",
              "      <td>1</td>\n",
              "      <td>0</td>\n",
              "      <td>0</td>\n",
              "      <td>0</td>\n",
              "      <td>0</td>\n",
              "      <td>1</td>\n",
              "      <td>29.85</td>\n",
              "      <td>29.85</td>\n",
              "      <td>0</td>\n",
              "      <td>0</td>\n",
              "      <td>1</td>\n",
              "      <td>0</td>\n",
              "      <td>1</td>\n",
              "      <td>0</td>\n",
              "      <td>0</td>\n",
              "      <td>1</td>\n",
              "      <td>0</td>\n",
              "      <td>0</td>\n",
              "      <td>0</td>\n",
              "      <td>0</td>\n",
              "      <td>1</td>\n",
              "      <td>0</td>\n",
              "    </tr>\n",
              "    <tr>\n",
              "      <th>1</th>\n",
              "      <td>1</td>\n",
              "      <td>0</td>\n",
              "      <td>0</td>\n",
              "      <td>0</td>\n",
              "      <td>34</td>\n",
              "      <td>1</td>\n",
              "      <td>1</td>\n",
              "      <td>0</td>\n",
              "      <td>1</td>\n",
              "      <td>0</td>\n",
              "      <td>0</td>\n",
              "      <td>0</td>\n",
              "      <td>0</td>\n",
              "      <td>56.95</td>\n",
              "      <td>1889.50</td>\n",
              "      <td>0</td>\n",
              "      <td>1</td>\n",
              "      <td>0</td>\n",
              "      <td>0</td>\n",
              "      <td>1</td>\n",
              "      <td>0</td>\n",
              "      <td>0</td>\n",
              "      <td>0</td>\n",
              "      <td>1</td>\n",
              "      <td>0</td>\n",
              "      <td>0</td>\n",
              "      <td>0</td>\n",
              "      <td>0</td>\n",
              "      <td>1</td>\n",
              "    </tr>\n",
              "    <tr>\n",
              "      <th>2</th>\n",
              "      <td>1</td>\n",
              "      <td>0</td>\n",
              "      <td>0</td>\n",
              "      <td>0</td>\n",
              "      <td>2</td>\n",
              "      <td>1</td>\n",
              "      <td>1</td>\n",
              "      <td>1</td>\n",
              "      <td>0</td>\n",
              "      <td>0</td>\n",
              "      <td>0</td>\n",
              "      <td>0</td>\n",
              "      <td>1</td>\n",
              "      <td>53.85</td>\n",
              "      <td>108.15</td>\n",
              "      <td>1</td>\n",
              "      <td>1</td>\n",
              "      <td>0</td>\n",
              "      <td>0</td>\n",
              "      <td>1</td>\n",
              "      <td>0</td>\n",
              "      <td>0</td>\n",
              "      <td>1</td>\n",
              "      <td>0</td>\n",
              "      <td>0</td>\n",
              "      <td>0</td>\n",
              "      <td>0</td>\n",
              "      <td>0</td>\n",
              "      <td>1</td>\n",
              "    </tr>\n",
              "    <tr>\n",
              "      <th>3</th>\n",
              "      <td>1</td>\n",
              "      <td>0</td>\n",
              "      <td>0</td>\n",
              "      <td>0</td>\n",
              "      <td>45</td>\n",
              "      <td>0</td>\n",
              "      <td>1</td>\n",
              "      <td>0</td>\n",
              "      <td>1</td>\n",
              "      <td>1</td>\n",
              "      <td>0</td>\n",
              "      <td>0</td>\n",
              "      <td>0</td>\n",
              "      <td>42.30</td>\n",
              "      <td>1840.75</td>\n",
              "      <td>0</td>\n",
              "      <td>0</td>\n",
              "      <td>1</td>\n",
              "      <td>0</td>\n",
              "      <td>1</td>\n",
              "      <td>0</td>\n",
              "      <td>0</td>\n",
              "      <td>0</td>\n",
              "      <td>1</td>\n",
              "      <td>0</td>\n",
              "      <td>1</td>\n",
              "      <td>0</td>\n",
              "      <td>0</td>\n",
              "      <td>0</td>\n",
              "    </tr>\n",
              "    <tr>\n",
              "      <th>4</th>\n",
              "      <td>0</td>\n",
              "      <td>0</td>\n",
              "      <td>0</td>\n",
              "      <td>0</td>\n",
              "      <td>2</td>\n",
              "      <td>1</td>\n",
              "      <td>0</td>\n",
              "      <td>0</td>\n",
              "      <td>0</td>\n",
              "      <td>0</td>\n",
              "      <td>0</td>\n",
              "      <td>0</td>\n",
              "      <td>1</td>\n",
              "      <td>70.70</td>\n",
              "      <td>151.65</td>\n",
              "      <td>1</td>\n",
              "      <td>1</td>\n",
              "      <td>0</td>\n",
              "      <td>0</td>\n",
              "      <td>0</td>\n",
              "      <td>1</td>\n",
              "      <td>0</td>\n",
              "      <td>1</td>\n",
              "      <td>0</td>\n",
              "      <td>0</td>\n",
              "      <td>0</td>\n",
              "      <td>0</td>\n",
              "      <td>1</td>\n",
              "      <td>0</td>\n",
              "    </tr>\n",
              "    <tr>\n",
              "      <th>5</th>\n",
              "      <td>0</td>\n",
              "      <td>0</td>\n",
              "      <td>0</td>\n",
              "      <td>0</td>\n",
              "      <td>8</td>\n",
              "      <td>1</td>\n",
              "      <td>0</td>\n",
              "      <td>0</td>\n",
              "      <td>1</td>\n",
              "      <td>0</td>\n",
              "      <td>1</td>\n",
              "      <td>1</td>\n",
              "      <td>1</td>\n",
              "      <td>99.65</td>\n",
              "      <td>820.50</td>\n",
              "      <td>1</td>\n",
              "      <td>0</td>\n",
              "      <td>0</td>\n",
              "      <td>1</td>\n",
              "      <td>0</td>\n",
              "      <td>1</td>\n",
              "      <td>0</td>\n",
              "      <td>1</td>\n",
              "      <td>0</td>\n",
              "      <td>0</td>\n",
              "      <td>0</td>\n",
              "      <td>0</td>\n",
              "      <td>1</td>\n",
              "      <td>0</td>\n",
              "    </tr>\n",
              "    <tr>\n",
              "      <th>6</th>\n",
              "      <td>1</td>\n",
              "      <td>0</td>\n",
              "      <td>0</td>\n",
              "      <td>1</td>\n",
              "      <td>22</td>\n",
              "      <td>1</td>\n",
              "      <td>0</td>\n",
              "      <td>1</td>\n",
              "      <td>0</td>\n",
              "      <td>0</td>\n",
              "      <td>1</td>\n",
              "      <td>0</td>\n",
              "      <td>1</td>\n",
              "      <td>89.10</td>\n",
              "      <td>1949.40</td>\n",
              "      <td>0</td>\n",
              "      <td>0</td>\n",
              "      <td>0</td>\n",
              "      <td>1</td>\n",
              "      <td>0</td>\n",
              "      <td>1</td>\n",
              "      <td>0</td>\n",
              "      <td>1</td>\n",
              "      <td>0</td>\n",
              "      <td>0</td>\n",
              "      <td>0</td>\n",
              "      <td>1</td>\n",
              "      <td>0</td>\n",
              "      <td>0</td>\n",
              "    </tr>\n",
              "  </tbody>\n",
              "</table>\n",
              "</div>"
            ],
            "text/plain": [
              "   gender  ...  PaymentMethod_Mailed check\n",
              "0       0  ...                           0\n",
              "1       1  ...                           1\n",
              "2       1  ...                           1\n",
              "3       1  ...                           0\n",
              "4       0  ...                           0\n",
              "5       0  ...                           0\n",
              "6       1  ...                           0\n",
              "\n",
              "[7 rows x 29 columns]"
            ]
          },
          "metadata": {
            "tags": []
          },
          "execution_count": 819
        }
      ]
    },
    {
      "cell_type": "markdown",
      "metadata": {
        "id": "4urCiCE4v0rt"
      },
      "source": [
        "Agora o `dataset` contém além das variáveis anteriores, novas variáveis onde cada resposta que a coluna tinha, foi transformada em uma nova coluna com sua respectiva resposta. Por exemplo:\n",
        "\n",
        "\n",
        "*   Antes a coluna `InternetService` tinha 3 respostas `DSL`, `Fiber optic` e `No`, após aplicar `get_dummies` agora existem 3 colunas distintas `InternetService_DSL`, `InternetService_Fiber optic` e `InternetService_No`.\n",
        "\n",
        "\n"
      ]
    },
    {
      "cell_type": "markdown",
      "metadata": {
        "id": "U-2yY7UBw20z"
      },
      "source": [
        "#Modelo de Machine Learning"
      ]
    },
    {
      "cell_type": "markdown",
      "metadata": {
        "id": "CNtPlhCKx_GY"
      },
      "source": [
        "Para que um modelo seja criado, é necessário normalizá-lo e balaceá-lo, usaremos 2 bibliotecas: \n",
        "\n",
        "\n",
        "1.   **StandardScaler** para normalizar\n",
        "2.   **RandomUnderSampler** para balancear \n",
        "\n"
      ]
    },
    {
      "cell_type": "code",
      "metadata": {
        "id": "LQoDK3l_w13U"
      },
      "source": [
        "#dividindo dataset treino e teste\n",
        "X = churn.drop('Churn', axis=1)\n",
        "y = churn['Churn']\n",
        "\n",
        "X_train, X_test, y_train, y_test = train_test_split(X, y)\n",
        "\n",
        "#padronizando os dados\n",
        "scaler = StandardScaler().fit(X_train)\n",
        "X_train = scaler.transform(X_train)\n",
        "\n",
        "#balanceando o dataset\n",
        "rus = RandomUnderSampler()\n",
        "X_train_rus, y_train_rus, = rus.fit_sample(X_train, y_train)"
      ],
      "execution_count": 820,
      "outputs": []
    },
    {
      "cell_type": "code",
      "metadata": {
        "id": "reoqRPPdw10V"
      },
      "source": [
        "#instanciando hiperparâmetros\n",
        "model_xgb = XGBClassifier()\n",
        "model_svc = SVC()\n",
        "model_lgr = LogisticRegression()"
      ],
      "execution_count": 821,
      "outputs": []
    },
    {
      "cell_type": "code",
      "metadata": {
        "id": "IPBSa1vXw1sd"
      },
      "source": [
        "#fazendo previsões sobre os novos dados\n",
        "model = []\n",
        "recall = []\n",
        "cross_v = []\n",
        "\n",
        "for r in (model_lgr, model_svc, model_xgb):\n",
        "  model.append(r.__class__.__name__)\n",
        "  cross_v.append(cross_validate(r, X_train_rus, y_train_rus, scoring='recall'))\n",
        "\n",
        "for b in range(len(cross_v)):\n",
        "  recall.append(cross_v[b]['test_score'].mean())"
      ],
      "execution_count": 822,
      "outputs": []
    },
    {
      "cell_type": "code",
      "metadata": {
        "colab": {
          "base_uri": "https://localhost:8080/",
          "height": 136
        },
        "id": "RJkdMaTlMcai",
        "outputId": "72178540-ee06-440a-a0af-6593423b1415"
      },
      "source": [
        "#exibir o resultado para os modelos\n",
        "rec = pd.DataFrame(data=recall, index=model, columns=['Recall'])\n",
        "rec"
      ],
      "execution_count": 823,
      "outputs": [
        {
          "output_type": "execute_result",
          "data": {
            "text/html": [
              "<div>\n",
              "<style scoped>\n",
              "    .dataframe tbody tr th:only-of-type {\n",
              "        vertical-align: middle;\n",
              "    }\n",
              "\n",
              "    .dataframe tbody tr th {\n",
              "        vertical-align: top;\n",
              "    }\n",
              "\n",
              "    .dataframe thead th {\n",
              "        text-align: right;\n",
              "    }\n",
              "</style>\n",
              "<table border=\"1\" class=\"dataframe\">\n",
              "  <thead>\n",
              "    <tr style=\"text-align: right;\">\n",
              "      <th></th>\n",
              "      <th>Recall</th>\n",
              "    </tr>\n",
              "  </thead>\n",
              "  <tbody>\n",
              "    <tr>\n",
              "      <th>LogisticRegression</th>\n",
              "      <td>0.807473</td>\n",
              "    </tr>\n",
              "    <tr>\n",
              "      <th>SVC</th>\n",
              "      <td>0.788347</td>\n",
              "    </tr>\n",
              "    <tr>\n",
              "      <th>XGBClassifier</th>\n",
              "      <td>0.798261</td>\n",
              "    </tr>\n",
              "  </tbody>\n",
              "</table>\n",
              "</div>"
            ],
            "text/plain": [
              "                      Recall\n",
              "LogisticRegression  0.807473\n",
              "SVC                 0.788347\n",
              "XGBClassifier       0.798261"
            ]
          },
          "metadata": {
            "tags": []
          },
          "execution_count": 823
        }
      ]
    },
    {
      "cell_type": "markdown",
      "metadata": {
        "id": "3WGr5jCRXa0h"
      },
      "source": [
        "Apesar dos valores estarem próximos, com alguns parâmetros, conseguimos deixar ainda melhor nosso modelo.\n",
        "\n",
        "Vamos aplicar agora alguns parâmetros para verificar, se de fato, melhoram."
      ]
    },
    {
      "cell_type": "markdown",
      "metadata": {
        "id": "CtzVrxtqD-Zm"
      },
      "source": [
        "---"
      ]
    },
    {
      "cell_type": "markdown",
      "metadata": {
        "id": "ZI7WrO1QXuXf"
      },
      "source": [
        "A biblioteca `GridSearch` vai ajudar a escolher os melhores parâmetros dentre vários que vamos testar. \n",
        "\n",
        "Vamos focar em parâmetros para melhorar o desempenho do modelo."
      ]
    },
    {
      "cell_type": "markdown",
      "metadata": {
        "id": "Ir1wHqKxZUJr"
      },
      "source": [
        "**melhor com método de classificação**\n",
        "\n",
        "resultado com LogisticRegression()\n",
        "\n",
        "Iremos aplicar alguns parâmetros para otimizar nosso modelo como:\n",
        "\n",
        "\n",
        "*   liblinear : `bom para datasets pequenos`\n",
        "*   newton-cg : `problemas com muitas classes`\n",
        "*   lbfgs     : `parâmetro default de otimização`\n",
        "\n",
        "Para mais informações, consulte a [documentação oficial](https://scikit-learn.org/stable/modules/generated/sklearn.preprocessing.LabelEncoder.html).\n",
        "\n"
      ]
    },
    {
      "cell_type": "code",
      "metadata": {
        "colab": {
          "base_uri": "https://localhost:8080/"
        },
        "id": "0lQh0PSQXr4c",
        "outputId": "7f1fd91e-fdf1-430b-aaf6-bd9d7aac0b01"
      },
      "source": [
        "#parametros para treinar modelo LogisticRegression()\n",
        "log_param = {'solver': ['newton-cg', 'lbfgs', 'liblinear'],\n",
        "            'C': [0.0001,0.001, 0.01, 0.1, 1, 10, 100, 1000]}\n",
        "\n",
        "grid_search = GridSearchCV(model_lgr, log_param, scoring='recall')\n",
        "result = grid_search.fit(X_train_rus, y_train_rus)\n",
        "\n",
        "print('Melhor resultado -> {:.2%}'.format(result.best_score_))\n",
        "result.best_params_"
      ],
      "execution_count": 824,
      "outputs": [
        {
          "output_type": "stream",
          "text": [
            "Melhor resultado -> 86.55%\n"
          ],
          "name": "stdout"
        },
        {
          "output_type": "execute_result",
          "data": {
            "text/plain": [
              "{'C': 0.0001, 'solver': 'liblinear'}"
            ]
          },
          "metadata": {
            "tags": []
          },
          "execution_count": 824
        }
      ]
    },
    {
      "cell_type": "markdown",
      "metadata": {
        "id": "Pf6NhrIBdjsx"
      },
      "source": [
        "`Conseguimos melhorar o modelo de classificação de 81% para 86.64%.`"
      ]
    },
    {
      "cell_type": "markdown",
      "metadata": {
        "id": "QbYDAXW-CBSo"
      },
      "source": [
        "---"
      ]
    },
    {
      "cell_type": "markdown",
      "metadata": {
        "id": "3EhLIUt2dxhH"
      },
      "source": [
        "**método XGBOOST**\n",
        "\n",
        "resultado com XGBClassifier()\n",
        "\n",
        "Nessa tentativa, iremos treinar o modelo com `n_estimators`, `gamma`, `max_depth`, `subsample`, `learning_rate` que precisam de 3 valores para testar: *start*, *stop* e *step*.\n",
        "\n",
        "A biblioteca GridSearch vai ajudar a escolher os melhores parâmetros.\n",
        "\n",
        "Para mais informações, consulte a [documentação oficial](https://xgboost.readthedocs.io/en/latest/index.html)."
      ]
    },
    {
      "cell_type": "code",
      "metadata": {
        "colab": {
          "base_uri": "https://localhost:8080/"
        },
        "id": "W7kRsP0cXr1l",
        "outputId": "5d79472d-386a-4036-8e8f-eb99dacb6ded"
      },
      "source": [
        "#parametros para treinar modelo XGBoost\n",
        "xgb_param = {'n_estimators': range(0, 500, 15)}\n",
        "\n",
        "grid_search = GridSearchCV(model_xgb, xgb_param, scoring='recall')\n",
        "result = grid_search.fit(X_train_rus, y_train_rus)\n",
        "\n",
        "print('Melhor resultado -> {:.2%}'.format(result.best_score_))\n",
        "result.best_params_"
      ],
      "execution_count": 825,
      "outputs": [
        {
          "output_type": "stream",
          "text": [
            "Melhor resultado -> 81.17%\n"
          ],
          "name": "stdout"
        },
        {
          "output_type": "execute_result",
          "data": {
            "text/plain": [
              "{'n_estimators': 15}"
            ]
          },
          "metadata": {
            "tags": []
          },
          "execution_count": 825
        }
      ]
    },
    {
      "cell_type": "code",
      "metadata": {
        "colab": {
          "base_uri": "https://localhost:8080/"
        },
        "id": "_5kMHGC9Xryy",
        "outputId": "6093813e-20f8-4612-aa27-89e193c3e22f"
      },
      "source": [
        "#detalhamento de todos os treinos para verificar que o n_estimators 15 é a melhor escolha\n",
        "means = result.cv_results_['mean_test_score']\n",
        "stds = result.cv_results_['std_test_score']\n",
        "params = result.cv_results_['params']\n",
        "for mean, stdev, param in zip(means, stds, params):\n",
        "\tprint(\"%f (%f) with: %r\" % (mean, stdev, param))"
      ],
      "execution_count": 826,
      "outputs": [
        {
          "output_type": "stream",
          "text": [
            "0.000000 (0.000000) with: {'n_estimators': 0}\n",
            "0.811711 (0.031857) with: {'n_estimators': 15}\n",
            "0.807463 (0.032051) with: {'n_estimators': 30}\n",
            "0.805343 (0.027422) with: {'n_estimators': 45}\n",
            "0.798973 (0.029333) with: {'n_estimators': 60}\n",
            "0.794720 (0.031491) with: {'n_estimators': 75}\n",
            "0.799672 (0.031061) with: {'n_estimators': 90}\n",
            "0.798258 (0.030181) with: {'n_estimators': 105}\n",
            "0.794015 (0.027772) with: {'n_estimators': 120}\n",
            "0.793309 (0.028676) with: {'n_estimators': 135}\n",
            "0.792607 (0.029334) with: {'n_estimators': 150}\n",
            "0.793319 (0.029903) with: {'n_estimators': 165}\n",
            "0.789071 (0.026714) with: {'n_estimators': 180}\n",
            "0.788369 (0.022121) with: {'n_estimators': 195}\n",
            "0.788372 (0.022325) with: {'n_estimators': 210}\n",
            "0.784841 (0.016865) with: {'n_estimators': 225}\n",
            "0.785545 (0.018900) with: {'n_estimators': 240}\n",
            "0.786958 (0.019675) with: {'n_estimators': 255}\n",
            "0.786956 (0.022214) with: {'n_estimators': 270}\n",
            "0.782713 (0.020681) with: {'n_estimators': 285}\n",
            "0.781300 (0.019770) with: {'n_estimators': 300}\n",
            "0.779177 (0.018614) with: {'n_estimators': 315}\n",
            "0.779172 (0.018126) with: {'n_estimators': 330}\n",
            "0.775636 (0.018910) with: {'n_estimators': 345}\n",
            "0.776348 (0.019494) with: {'n_estimators': 360}\n",
            "0.775641 (0.019762) with: {'n_estimators': 375}\n",
            "0.777769 (0.015552) with: {'n_estimators': 390}\n",
            "0.777761 (0.016286) with: {'n_estimators': 405}\n",
            "0.774230 (0.015554) with: {'n_estimators': 420}\n",
            "0.776348 (0.015790) with: {'n_estimators': 435}\n",
            "0.774927 (0.018516) with: {'n_estimators': 450}\n",
            "0.772092 (0.018156) with: {'n_estimators': 465}\n",
            "0.770684 (0.017043) with: {'n_estimators': 480}\n",
            "0.769977 (0.016522) with: {'n_estimators': 495}\n"
          ],
          "name": "stdout"
        }
      ]
    },
    {
      "cell_type": "markdown",
      "metadata": {
        "id": "LBEX78ousf_M"
      },
      "source": [
        "`Conseguimos melhorar o modelo XGBoost de 79% para 81%. Porém ainda podemos melhorar com mais parâmetros.`"
      ]
    },
    {
      "cell_type": "markdown",
      "metadata": {
        "id": "AoG2pAyVy0YR"
      },
      "source": [
        "O GridSearch vai nos mostrar qual melhor valor para `gamma`"
      ]
    },
    {
      "cell_type": "code",
      "metadata": {
        "colab": {
          "base_uri": "https://localhost:8080/"
        },
        "id": "i2YmVkCHXrvx",
        "outputId": "4f1d74c7-ebc7-4a43-eb8d-865fedbd014d"
      },
      "source": [
        "model_xgb = XGBClassifier(n_estimators=15)\n",
        "\n",
        "#procurando melhor valor para gamma\n",
        "xgb_param = {'gamma': np.arange(0, 20, 1)}\n",
        "\n",
        "grid_search = GridSearchCV(model_xgb, xgb_param, scoring='recall', n_jobs=-1)\n",
        "result = grid_search.fit(X_train_rus, y_train_rus)\n",
        "\n",
        "print('Melhor resultado -> {:.2%}'.format(result.best_score_))\n",
        "result.best_params_"
      ],
      "execution_count": 835,
      "outputs": [
        {
          "output_type": "stream",
          "text": [
            "Melhor resultado -> 81.74%\n"
          ],
          "name": "stdout"
        },
        {
          "output_type": "execute_result",
          "data": {
            "text/plain": [
              "{'gamma': 6}"
            ]
          },
          "metadata": {
            "tags": []
          },
          "execution_count": 835
        }
      ]
    },
    {
      "cell_type": "markdown",
      "metadata": {
        "id": "_VgJ7rKgyJEB"
      },
      "source": [
        "`o modelo decidiu que gamma = 6 é o melhor valor`"
      ]
    },
    {
      "cell_type": "markdown",
      "metadata": {
        "id": "Gi1ILLs8zP3b"
      },
      "source": [
        "O GridSearch vai nos mostrar qual melhor valor para `max_depth`."
      ]
    },
    {
      "cell_type": "code",
      "metadata": {
        "colab": {
          "base_uri": "https://localhost:8080/"
        },
        "id": "V4fz-Jcrynw1",
        "outputId": "e42bc250-68c0-40cc-99cf-1610220e188e"
      },
      "source": [
        "model_xgb = XGBClassifier(n_estimators=15, \n",
        "                          gamma=6)\n",
        "\n",
        "#procurando melhor valor para max_depth\n",
        "xgb_param = {'max_depth': range(0, 4, 1)}\n",
        "\n",
        "grid_search = GridSearchCV(model_xgb, xgb_param, scoring='recall', n_jobs=-1)\n",
        "result = grid_search.fit(X_train_rus, y_train_rus)\n",
        "\n",
        "print('Melhor resultado -> {:.2%}'.format(result.best_score_))\n",
        "result.best_params_"
      ],
      "execution_count": 836,
      "outputs": [
        {
          "output_type": "stream",
          "text": [
            "Melhor resultado -> 85.07%\n"
          ],
          "name": "stdout"
        },
        {
          "output_type": "execute_result",
          "data": {
            "text/plain": [
              "{'max_depth': 1}"
            ]
          },
          "metadata": {
            "tags": []
          },
          "execution_count": 836
        }
      ]
    },
    {
      "cell_type": "markdown",
      "metadata": {
        "id": "ayGGr2cdz7V_"
      },
      "source": [
        "`o modelo decidiu que max_depth = 1 é o melhor valor`"
      ]
    },
    {
      "cell_type": "markdown",
      "metadata": {
        "id": "D3rF19dOzNMO"
      },
      "source": [
        "O GridSearch vai nos mostrar qual melhor valor para `subsample`."
      ]
    },
    {
      "cell_type": "code",
      "metadata": {
        "colab": {
          "base_uri": "https://localhost:8080/"
        },
        "id": "tTsuA1AbyntS",
        "outputId": "29041e13-ec4e-4c5c-b9f3-6ab4d17a1df4"
      },
      "source": [
        "model_xgb = XGBClassifier(n_estimators=15, \n",
        "                          gamma=5, \n",
        "                          max_depth=1)\n",
        "\n",
        "#procurando melhor valor para subsample\n",
        "xgb_param = {'subsample': np.arange(0.8, 1.0, 0.1)}\n",
        "\n",
        "grid_search = GridSearchCV(model_xgb, xgb_param, scoring='recall', n_jobs=-1)\n",
        "result = grid_search.fit(X_train_rus, y_train_rus)\n",
        "\n",
        "print('Melhor resultado -> {:.2%}'.format(result.best_score_))\n",
        "result.best_params_"
      ],
      "execution_count": 837,
      "outputs": [
        {
          "output_type": "stream",
          "text": [
            "Melhor resultado -> 85.77%\n"
          ],
          "name": "stdout"
        },
        {
          "output_type": "execute_result",
          "data": {
            "text/plain": [
              "{'subsample': 0.9}"
            ]
          },
          "metadata": {
            "tags": []
          },
          "execution_count": 837
        }
      ]
    },
    {
      "cell_type": "markdown",
      "metadata": {
        "id": "7ed36sRvz4Y5"
      },
      "source": [
        "`o modelo decidiu que subsample = 0.9 é o melhor valor`"
      ]
    },
    {
      "cell_type": "code",
      "metadata": {
        "colab": {
          "base_uri": "https://localhost:8080/"
        },
        "id": "-YWmHelKynpt",
        "outputId": "22e7c3d7-0294-4662-ae87-85777ff46739"
      },
      "source": [
        "model_xgb = XGBClassifier(n_estimators=15, \n",
        "                          gamma=6, \n",
        "                          max_depth=1, \n",
        "                          subsample=0.9)\n",
        "\n",
        "#procurando melhor valor para learning_rate\n",
        "xgb_param = {'learning_rate': [0.001 ,00.1, 0.1, 1]}\n",
        "\n",
        "grid_search = GridSearchCV(model_xgb, xgb_param, scoring='recall', n_jobs=-1)\n",
        "result = grid_search.fit(X_train_rus, y_train_rus)\n",
        "\n",
        "print('Melhor resultado -> {:.2%}'.format(result.best_score_))\n",
        "result.best_params_"
      ],
      "execution_count": 838,
      "outputs": [
        {
          "output_type": "stream",
          "text": [
            "Melhor resultado -> 88.46%\n"
          ],
          "name": "stdout"
        },
        {
          "output_type": "execute_result",
          "data": {
            "text/plain": [
              "{'learning_rate': 0.001}"
            ]
          },
          "metadata": {
            "tags": []
          },
          "execution_count": 838
        }
      ]
    },
    {
      "cell_type": "markdown",
      "metadata": {
        "id": "fb2jK2_a1QpD"
      },
      "source": [
        "`o modelo decidiu que learning_rate = 0.001 é o melhor valor`"
      ]
    },
    {
      "cell_type": "markdown",
      "metadata": {
        "id": "r0g4Q0x62aPF"
      },
      "source": [
        "Tivemos pequenos ganhos em cada parâmetro que entrava no modelo XGBoost.\n",
        "\n",
        "No final, conseguimos melhorar o XGBCLassifier() de `79%` para `88%`."
      ]
    },
    {
      "cell_type": "markdown",
      "metadata": {
        "id": "ERACadeAB-8z"
      },
      "source": [
        "---"
      ]
    },
    {
      "cell_type": "markdown",
      "metadata": {
        "id": "mPOUXnlRBgcz"
      },
      "source": [
        "**método Support Vector Classification SVC**\n",
        "\n",
        "Nesse treino, iremos usar um parâmetro `kernel` para tentar otimizar.\n",
        "\n",
        "Mais informações no [documento oficial](https://scikit-learn.org/stable/modules/generated/sklearn.svm.SVC.html)."
      ]
    },
    {
      "cell_type": "code",
      "metadata": {
        "colab": {
          "base_uri": "https://localhost:8080/"
        },
        "id": "Hvt9itHTqHN_",
        "outputId": "69cd6754-0ae2-401d-ffab-a47d4d062091"
      },
      "source": [
        "svc_param = {'kernel': ['linear', 'poly', 'sigmoid', 'precomputed'],\n",
        "             'C': [0.001, 0.01, 0.1, 1, 10, 100]}\n",
        "\n",
        "grid_search = GridSearchCV(model_xgb, svc_param, scoring='recall', n_jobs=-1)\n",
        "result = grid_search.fit(X_train_rus, y_train_rus)\n",
        "\n",
        "print('Melhor resultado -> {:.2%}'.format(result.best_score_))\n",
        "result.best_params_"
      ],
      "execution_count": 831,
      "outputs": [
        {
          "output_type": "stream",
          "text": [
            "Melhor resultado -> 82.09%\n"
          ],
          "name": "stdout"
        },
        {
          "output_type": "execute_result",
          "data": {
            "text/plain": [
              "{'C': 0.001, 'kernel': 'linear'}"
            ]
          },
          "metadata": {
            "tags": []
          },
          "execution_count": 831
        }
      ]
    },
    {
      "cell_type": "markdown",
      "metadata": {
        "id": "jLAGQhA_GQmY"
      },
      "source": [
        "`Conseguimos melhorar o modelo SVC de 78% para 82%.`"
      ]
    },
    {
      "cell_type": "markdown",
      "metadata": {
        "id": "8kNJi3z7GoR-"
      },
      "source": [
        "---"
      ]
    },
    {
      "cell_type": "markdown",
      "metadata": {
        "id": "uDQ5J84JGpV2"
      },
      "source": [
        "Após melhorarmos os modelos, é o momento de aplicar esses resultados no conjunto de testes."
      ]
    },
    {
      "cell_type": "code",
      "metadata": {
        "colab": {
          "base_uri": "https://localhost:8080/",
          "height": 446
        },
        "id": "xZvl7fwqJhK3",
        "outputId": "23659001-8d2d-45e4-813f-cd0e378a0a61"
      },
      "source": [
        "#modelo de classificação\n",
        "model_lgr = LogisticRegression(solver='liblinear', C=0.0001)\n",
        "model_lgr.fit(X_train_rus, y_train_rus)\n",
        "\n",
        "#preditivo\n",
        "log_X_test = scaler.transform(X_test)\n",
        "log_y_pred = model_lgr.predict(log_X_test)\n",
        "\n",
        "#relatório\n",
        "print(classification_report(y_test, log_y_pred))\n",
        "\n",
        "#matriz de confusão\n",
        "fig, ax = plt.subplots()\n",
        "sns.heatmap(confusion_matrix(y_test, \n",
        "                             log_y_pred, \n",
        "                             normalize='true'), \n",
        "                             annot=True, ax=ax)\n",
        "ax.set_title('Matriz de Confusão')\n",
        "ax.set_ylabel('Valor Original')\n",
        "ax.set_xlabel('Predição')\n",
        "\n",
        "plt.show()"
      ],
      "execution_count": 832,
      "outputs": [
        {
          "output_type": "stream",
          "text": [
            "              precision    recall  f1-score   support\n",
            "\n",
            "           0       0.94      0.64      0.76      1305\n",
            "           1       0.46      0.88      0.61       456\n",
            "\n",
            "    accuracy                           0.71      1761\n",
            "   macro avg       0.70      0.76      0.69      1761\n",
            "weighted avg       0.82      0.71      0.72      1761\n",
            "\n"
          ],
          "name": "stdout"
        },
        {
          "output_type": "display_data",
          "data": {
            "image/png": "[encoded data removed]",
            "text/plain": [
              "<Figure size 432x288 with 2 Axes>"
            ]
          },
          "metadata": {
            "tags": [],
            "needs_background": "light"
          }
        }
      ]
    },
    {
      "cell_type": "code",
      "metadata": {
        "colab": {
          "base_uri": "https://localhost:8080/",
          "height": 446
        },
        "id": "n6fE5jSaK6qq",
        "outputId": "6fbbe162-9d46-4a1d-8705-d81cccf46916"
      },
      "source": [
        "#modelo de XGBoost\n",
        "model_xgb = XGBClassifier(n_estimators=15,\n",
        "                          gamma=6, \n",
        "                          max_depth=1,\n",
        "                          subsample=0.9,\n",
        "                          learning_rate=0.001)\n",
        "model_xgb.fit(X_train_rus, y_train_rus)\n",
        "\n",
        "#preditivo\n",
        "xgb_X_test = scaler.transform(X_test)\n",
        "xgb_y_pred = model_xgb.predict(xgb_X_test)\n",
        "\n",
        "#relatório\n",
        "print(classification_report(y_test, xgb_y_pred))\n",
        "\n",
        "#matriz de confusão\n",
        "fig, ax = plt.subplots()\n",
        "sns.heatmap(confusion_matrix(y_test, \n",
        "                             xgb_y_pred, \n",
        "                             normalize='true'), \n",
        "                             annot=True, ax=ax)\n",
        "ax.set_title('Matriz de Confusão')\n",
        "ax.set_ylabel('Valor Original')\n",
        "ax.set_xlabel('Predição')\n",
        "\n",
        "plt.show()"
      ],
      "execution_count": 839,
      "outputs": [
        {
          "output_type": "stream",
          "text": [
            "              precision    recall  f1-score   support\n",
            "\n",
            "           0       0.94      0.58      0.72      1305\n",
            "           1       0.43      0.89      0.58       456\n",
            "\n",
            "    accuracy                           0.66      1761\n",
            "   macro avg       0.68      0.74      0.65      1761\n",
            "weighted avg       0.80      0.66      0.68      1761\n",
            "\n"
          ],
          "name": "stdout"
        },
        {
          "output_type": "display_data",
          "data": {
            "image/png": "[encoded data removed]",
            "text/plain": [
              "<Figure size 432x288 with 2 Axes>"
            ]
          },
          "metadata": {
            "tags": [],
            "needs_background": "light"
          }
        }
      ]
    },
    {
      "cell_type": "code",
      "metadata": {
        "colab": {
          "base_uri": "https://localhost:8080/",
          "height": 446
        },
        "id": "SB-gI2sRMnD6",
        "outputId": "63792c0e-3ea9-4c87-c5c3-202dd010dc9d"
      },
      "source": [
        "#modelo de SVC\n",
        "model_svc = SVC(kernel='linear', C=0.001)\n",
        "model_svc.fit(X_train_rus, y_train_rus)\n",
        "\n",
        "#preditivo\n",
        "svc_X_test = scaler.transform(X_test)\n",
        "svc_y_pred = model_svc.predict(xgb_X_test)\n",
        "\n",
        "#relatório\n",
        "print(classification_report(y_test, svc_y_pred))\n",
        "\n",
        "#matriz de confusão\n",
        "fig, ax = plt.subplots()\n",
        "sns.heatmap(confusion_matrix(y_test, \n",
        "                             svc_y_pred, \n",
        "                             normalize='true'), \n",
        "                             annot=True, ax=ax)\n",
        "ax.set_title('Matriz de Confusão')\n",
        "ax.set_ylabel('Valor Original')\n",
        "ax.set_xlabel('Predição')\n",
        "\n",
        "plt.show()"
      ],
      "execution_count": 834,
      "outputs": [
        {
          "output_type": "stream",
          "text": [
            "              precision    recall  f1-score   support\n",
            "\n",
            "           0       0.93      0.66      0.77      1305\n",
            "           1       0.47      0.85      0.60       456\n",
            "\n",
            "    accuracy                           0.71      1761\n",
            "   macro avg       0.70      0.76      0.69      1761\n",
            "weighted avg       0.81      0.71      0.73      1761\n",
            "\n"
          ],
          "name": "stdout"
        },
        {
          "output_type": "display_data",
          "data": {
            "image/png": "[encoded data removed]",
            "text/plain": [
              "<Figure size 432x288 with 2 Axes>"
            ]
          },
          "metadata": {
            "tags": [],
            "needs_background": "light"
          }
        }
      ]
    },
    {
      "cell_type": "markdown",
      "metadata": {
        "id": "zvzRpIIiNZsp"
      },
      "source": [
        "---"
      ]
    },
    {
      "cell_type": "markdown",
      "metadata": {
        "id": "Yj4R3LxSNaXp"
      },
      "source": [
        "#Conclusão"
      ]
    },
    {
      "cell_type": "markdown",
      "metadata": {
        "id": "zF1mhZsjNdDw"
      },
      "source": [
        "Churn é uma forma de descobrir quantos clientes cancelaram o serviço com uma empresa.\n",
        "\n",
        "Neste dataset, várias variáveis conseguem demonstrar quais os perfis de clientes são mais propensos a cancelar.\n",
        "\n",
        "Com o resultado dessa análise, muitas empresas podem descobrir formas de manter seus clientes, baseados nos perfis analisados, enviando promoções ou ofertas.\n",
        "\n",
        "A biblioteca `XGBoost` mostrou como é uma ferramenta poderosa para otimizar um modelo de Machine Learning, juntamente com GridSearch ajudando a escolher quais são os melhores parâmetros para melhorar o modelo.\n",
        "\n",
        "Nessa análise conseguimos o seguinte resultado usando `SVC`, `XGBoost` e `Regressão Logística`:\n",
        "\n",
        "* **SVC**: antes -> `78%` | depois -> `85%` (RECALL)\n",
        "\n",
        "* **XGBoost**: antes -> `80%` | depois -> `89%` (RECALL)\n",
        "\n",
        "* **Regressão Logística**: antes -> `80%` | depois -> `88%` (RECALL)\n"
      ]
    }
  ]
}